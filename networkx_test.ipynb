{
 "cells": [
  {
   "cell_type": "code",
   "execution_count": 40,
   "metadata": {},
   "outputs": [
    {
     "data": {
      "image/png": "[encoded data removed]",
      "text/plain": [
       "<matplotlib.figure.Figure at 0x1516289750>"
      ]
     },
     "metadata": {},
     "output_type": "display_data"
    },
    {
     "name": "stdout",
     "output_type": "stream",
     "text": [
      "{'sizes': 1100, 'node_color': 'green', 'size': 100}\n",
      "1100\n",
      "None\n"
     ]
    }
   ],
   "source": [
    "import networkx as nx\n",
    "\n",
    "G = nx.Graph()  # 有向グラフ (Directed Graph)\n",
    "\n",
    "# 頂点の追加\n",
    "G.add_nodes_from([3, 4, 5])\n",
    "\n",
    "# 辺の追加 (頂点も必要に応じて追加されます)\n",
    "G.add_edge(1, 2)                                    \n",
    "G.add_edges_from([(1, 3), (2, 5), (3, 4),])\n",
    "\n",
    "# # 辺の削除\n",
    "# G.remove_edge(3, 4)                    \n",
    "# G.remove_edges_from([(1, 3), (2, 5)])\n",
    "\n",
    "# # 頂点の削除 (削除された頂点に接続されている辺も削除されます)\n",
    "# G.remove_node(5)\n",
    "# G.remove_nodes_from([3, 4])\n",
    "\n",
    "# # 指定したパス上の頂点と辺を追加\n",
    "# G.add_path([1, 2, 3, 4, 5])  # 1 → 2 → 3 → 4 → 5\n",
    "\n",
    "# # 指定した閉路上の頂点と辺を追加\n",
    "# G.add_cycle([1, 2, 3, 4, 5])  # 1 → 2 → 3 → 4 → 5 → 1\n",
    "\n",
    "# # 放射状に頂点と辺を追加\n",
    "G.add_node(1, node_color = 'b', size=100)\n",
    "G.add_node(u'テスト')     \n",
    "# G.add_star([1, 2, 3, 4, 5])  # 1 → 2, 1 → 3, 1 → 4, 1 → 5\n",
    "color_map = ['blue', 'green', 'red', 'yellow', 'black']\n",
    "\n",
    "import matplotlib.pyplot as plt\n",
    "\n",
    "\n",
    "\n",
    "nx.draw_networkx(G,font_family='AppleGothic', node_color = color_map)\n",
    "\n",
    "# pos = nx.spring_layout(G)\n",
    "# pr = nx.pagerank(G)\n",
    "# labels = {1:u'テスト', 2:'2', 3:'3', 4:'4', 5:'5'}\n",
    "# nx.draw_networkx_edges(G, pos)\n",
    "# nx.draw_networkx_nodes(G, pos, font_family='AppleGothic', node_color=list(pr.values()), cmap=plt.cm.Reds, node_size=[5000*v for v in pr.values()])\n",
    "# nx.draw_networkx_labels(G,pos,labels)\n",
    "\n",
    "           \n",
    "\n",
    "\n",
    "plt.show()\n",
    "\n",
    "G.add_node(1, node_color = 'green', sizes=100)\n",
    "G.node[1]['sizes'] += 1000 #+ G.node[1]['sizes']\n",
    "print G.node[1]\n",
    "print G.node[1].get('sizes', 0)\n",
    "print G.node.get(10)\n",
    "nx.write_gexf(G, 'testnx.gexf')\n",
    "\n",
    "# nx.write_gml(G, 'test.gml')\n",
    "# nx.write_graphml(G, 'test.graphml')"
   ]
  },
  {
   "cell_type": "code",
   "execution_count": 20,
   "metadata": {},
   "outputs": [
    {
     "name": "stdout",
     "output_type": "stream",
     "text": [
      "\n"
     ]
    }
   ],
   "source": [
    "print G"
   ]
  },
  {
   "cell_type": "code",
   "execution_count": 9,
   "metadata": {},
   "outputs": [
    {
     "data": {
      "image/png": "[encoded data removed]",
      "text/plain": [
       "<matplotlib.figure.Figure at 0x151d015850>"
      ]
     },
     "metadata": {},
     "output_type": "display_data"
    }
   ],
   "source": [
    "#!/usr/bin/env python\n",
    "\"\"\"\n",
    "Draw a graph with matplotlib, color by degree.\n",
    "\n",
    "You must have matplotlib for this to work.\n",
    "\"\"\"\n",
    "__author__ = \"\"\"Aric Hagberg (hagberg@lanl.gov)\"\"\"\n",
    "import matplotlib.pyplot as plt\n",
    "\n",
    "import networkx as nx\n",
    "\n",
    "G=nx.cubical_graph()\n",
    "pos=nx.spring_layout(G) # positions for all nodes\n",
    "\n",
    "# nodes\n",
    "nx.draw_networkx_nodes(G,pos,\n",
    "                       nodelist=[0,1,2,3],\n",
    "                       node_color='b',\n",
    "                       node_size=500,\n",
    "                   alpha=0.8)\n",
    "# nx.draw_networkx_nodes(G,pos,\n",
    "#                        nodelist=[4,5,6,7],\n",
    "#                        node_color='b',\n",
    "#                        node_size=500,\n",
    "#                    alpha=0.8)\n",
    "\n",
    "# # edges\n",
    "# nx.draw_networkx_edges(G,pos,width=1.0,alpha=0.5)\n",
    "# nx.draw_networkx_edges(G,pos,\n",
    "#                        edgelist=[(0,1),(1,2),(2,3),(3,0)],\n",
    "#                        width=8,alpha=0.5,edge_color='r')\n",
    "# nx.draw_networkx_edges(G,pos,\n",
    "#                        edgelist=[(4,5),(5,6),(6,7),(7,4)],\n",
    "#                        width=8,alpha=0.5,edge_color='b')\n",
    "\n",
    "\n",
    "# some math labels\n",
    "labels={}\n",
    "labels[0]=r'$a$'\n",
    "labels[1]=r'$b$'\n",
    "labels[2]=r'$c$'\n",
    "labels[3]=r'$d$'\n",
    "labels[4]=r'$\\alpha$'\n",
    "labels[5]=r'$\\beta$'\n",
    "labels[6]=r'$\\gamma$'\n",
    "labels[7]=r'$\\delta$'\n",
    "nx.draw_networkx_labels(G,pos,labels,font_size=16)\n",
    "\n",
    "plt.axis('off')\n",
    "plt.savefig(\"labels_and_colors.png\") # save as png\n",
    "plt.show() # display\n",
    "\n",
    "nx.write_gexf(G, 'test.gexf')"
   ]
  },
  {
   "cell_type": "code",
   "execution_count": 5,
   "metadata": {},
   "outputs": [
    {
     "name": "stdout",
     "output_type": "stream",
     "text": [
      "[u'sans-serif']\n"
     ]
    }
   ],
   "source": [
    "# https://openbook4.me/sections/1674\n",
    "import matplotlib as mpl\n",
    "print(mpl.rcParams['font.family'])\n",
    "import matplotlib.font_manager\n",
    "matplotlib.font_manager.findSystemFonts(fontpaths=None, fontext='ttf')\n",
    "import matplotlib.font_manager\n",
    "# print([f.name for f in matplotlib.font_manager.fontManager.ttflist])\n"
   ]
  },
  {
   "cell_type": "code",
   "execution_count": null,
   "metadata": {
    "collapsed": true
   },
   "outputs": [],
   "source": []
  },
  {
   "cell_type": "code",
   "execution_count": 41,
   "metadata": {},
   "outputs": [
    {
     "ename": "ImportError",
     "evalue": "No module named pygraphviz",
     "output_type": "error",
     "traceback": [
      "\u001b[0;31m---------------------------------------------------------------------------\u001b[0m",
      "\u001b[0;31mImportError\u001b[0m                               Traceback (most recent call last)",
      "\u001b[0;32m<ipython-input-41-54f5dccd786f>\u001b[0m in \u001b[0;36m<module>\u001b[0;34m()\u001b[0m\n\u001b[0;32m----> 1\u001b[0;31m \u001b[0;32mimport\u001b[0m \u001b[0mpygraphviz\u001b[0m \u001b[0;32mas\u001b[0m \u001b[0mpgv\u001b[0m\u001b[0;34m\u001b[0m\u001b[0m\n\u001b[0m",
      "\u001b[0;31mImportError\u001b[0m: No module named pygraphviz"
     ]
    }
   ],
   "source": [
    "import pygraphviz as pgv"
   ]
  },
  {
   "cell_type": "code",
   "execution_count": 43,
   "metadata": {},
   "outputs": [
    {
     "name": "stdout",
     "output_type": "stream",
     "text": [
      "<_sre.SRE_Match object at 0x1515d5e4a8>\n"
     ]
    }
   ],
   "source": [
    "import re\n",
    "test = u'歴代スタッフ'\n",
    "print re.search(u'.*スタッフ', test)"
   ]
  },
  {
   "cell_type": "code",
   "execution_count": null,
   "metadata": {
    "collapsed": true
   },
   "outputs": [],
   "source": []
  }
 ],
 "metadata": {
  "kernelspec": {
   "display_name": "Python 2",
   "language": "python",
   "name": "python2"
  },
  "language_info": {
   "codemirror_mode": {
    "name": "ipython",
    "version": 2
   },
   "file_extension": ".py",
   "mimetype": "text/x-python",
   "name": "python",
   "nbconvert_exporter": "python",
   "pygments_lexer": "ipython2",
   "version": "2.7.14"
  }
 },
 "nbformat": 4,
 "nbformat_minor": 2
}
