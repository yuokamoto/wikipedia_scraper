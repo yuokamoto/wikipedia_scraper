{
 "cells": [
  {
   "cell_type": "code",
   "execution_count": 113,
   "metadata": {},
   "outputs": [
    {
     "name": "stdout",
     "output_type": "stream",
     "text": [
      "[{'shape': 'circle', 'group': 'test0', 'id': 1, 'value': 1, 'label': '\\xe3\\x83\\x86\\xe3\\x82\\xb9\\xe3\\x83\\x88'}, {'color': '#00ff1e', 'shape': 'dot', 'id': 4, 'value': 100, 'label': 'NODE \\xe3\\x83\\x86\\xe3\\x82\\xb9\\xe3\\x83\\x88'}, {'color': '#162347', 'shape': 'dot', 'id': 5, 'value': 100, 'label': 'NODE \\xef\\xbc\\x95'}, {'color': '#dd4b39', 'shape': 'dot', 'id': 6, 'value': 100, 'label': 'NODE 3'}]\n",
      "\n",
      "{'color': '#162347', 'shape': 'dot', 'id': 5, 'value': 100, 'label': 'NODE \\xef\\xbc\\x95'}\n"
     ]
    },
    {
     "data": {
      "text/html": [
       "\n",
       "        <iframe\n",
       "            width=\"500px\"\n",
       "            height=\"500px\"\n",
       "            src=\"test.html\"\n",
       "            frameborder=\"0\"\n",
       "            allowfullscreen\n",
       "        ></iframe>\n",
       "        "
      ],
      "text/plain": [
       "<IPython.lib.display.IFrame at 0x151cc9e090>"
      ]
     },
     "execution_count": 113,
     "metadata": {},
     "output_type": "execute_result"
    }
   ],
   "source": [
    "from pyvis.network import Network\n",
    "net = Network(notebook=True)\n",
    "net.add_node(1, label=\"テスト\", value=1, group='test0', shape='circle')\n",
    "net.add_nodes([4,5,6], \n",
    "              value=[100, 100, 100],\n",
    "              label=[\"NODE テスト\", \"NODE ５\", \"NODE 3\"], \n",
    "              color=[\"#00ff1e\", \"#162347\", \"#dd4b39\"])\n",
    "net.add_edge(1,4)\n",
    "net.add_edge(4,5)\n",
    "nodes = net.nodes\n",
    "# nodes[0]['value' ] = 1000\n",
    "print net.nodes\n",
    "print \n",
    "\n",
    "def get_net_node(net, key, value):\n",
    "    for item in net.nodes:\n",
    "        if item[key] == value:\n",
    "            return item\n",
    "    return None\n",
    "print get_net_node(net, 'label', \"NODE ５\")\n",
    "get_net_node(net, 'group', 'test0')['label'] = 'sometinggggggg'\n",
    "get_net_node(net, 'group', 'test0')['value'] = 1\n",
    "# net.nodes.remove(get_net_node(net, 'group', 'test0'))\n",
    "net.show(\"test.html\")"
   ]
  },
  {
   "cell_type": "code",
   "execution_count": 114,
   "metadata": {},
   "outputs": [
    {
     "data": {
      "text/plain": [
       "<WikipediaPage '朝井リョウ&加藤千恵のオールナイトニッポン0(ZERO)'>"
      ]
     },
     "execution_count": 114,
     "metadata": {},
     "output_type": "execute_result"
    }
   ],
   "source": [
    "import wikipedia\n",
    "wikipedia.set_lang('ja')\n",
    "wikipedia.page(u'朝井リョウ&加藤千恵のオールナイトニッポン0(ZERO)')"
   ]
  },
  {
   "cell_type": "code",
   "execution_count": null,
   "metadata": {
    "collapsed": true
   },
   "outputs": [],
   "source": []
  }
 ],
 "metadata": {
  "kernelspec": {
   "display_name": "Python 2",
   "language": "python",
   "name": "python2"
  },
  "language_info": {
   "codemirror_mode": {
    "name": "ipython",
    "version": 2
   },
   "file_extension": ".py",
   "mimetype": "text/x-python",
   "name": "python",
   "nbconvert_exporter": "python",
   "pygments_lexer": "ipython2",
   "version": "2.7.14"
  }
 },
 "nbformat": 4,
 "nbformat_minor": 2
}
