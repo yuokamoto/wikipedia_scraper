{
 "cells": [
  {
   "cell_type": "code",
   "execution_count": 4,
   "metadata": {
    "collapsed": true
   },
   "outputs": [],
   "source": [
    "import numpy as np"
   ]
  },
  {
   "cell_type": "code",
   "execution_count": 2,
   "metadata": {},
   "outputs": [
    {
     "name": "stdout",
     "output_type": "stream",
     "text": [
      "test\n"
     ]
    }
   ],
   "source": [
    "print \"test\""
   ]
  },
  {
   "cell_type": "code",
   "execution_count": 5,
   "metadata": {
    "collapsed": true
   },
   "outputs": [],
   "source": [
    "import wikipedia\n"
   ]
  },
  {
   "cell_type": "code",
   "execution_count": 6,
   "metadata": {},
   "outputs": [
    {
     "ename": "PageError",
     "evalue": "PageError()",
     "output_type": "error",
     "traceback": [
      "\u001b[0;31m---------------------------------------------------------------------------\u001b[0m",
      "\u001b[0;31mPageError\u001b[0m                                 Traceback (most recent call last)",
      "\u001b[0;32m<ipython-input-6-bd90fab21993>\u001b[0m in \u001b[0;36m<module>\u001b[0;34m()\u001b[0m\n\u001b[0;32m----> 1\u001b[0;31m \u001b[0;32mprint\u001b[0m \u001b[0mwikipedia\u001b[0m\u001b[0;34m.\u001b[0m\u001b[0msummary\u001b[0m\u001b[0;34m(\u001b[0m\u001b[0;34m\"アルコ&ピースのオールナイトニッポンシリーズ\"\u001b[0m\u001b[0;34m)\u001b[0m\u001b[0;34m\u001b[0m\u001b[0m\n\u001b[0m",
      "\u001b[0;32m/anaconda2/lib/python2.7/site-packages/wikipedia/util.pyc\u001b[0m in \u001b[0;36m__call__\u001b[0;34m(self, *args, **kwargs)\u001b[0m\n\u001b[1;32m     26\u001b[0m       \u001b[0mret\u001b[0m \u001b[0;34m=\u001b[0m \u001b[0mself\u001b[0m\u001b[0;34m.\u001b[0m\u001b[0m_cache\u001b[0m\u001b[0;34m[\u001b[0m\u001b[0mkey\u001b[0m\u001b[0;34m]\u001b[0m\u001b[0;34m\u001b[0m\u001b[0m\n\u001b[1;32m     27\u001b[0m     \u001b[0;32melse\u001b[0m\u001b[0;34m:\u001b[0m\u001b[0;34m\u001b[0m\u001b[0m\n\u001b[0;32m---> 28\u001b[0;31m       \u001b[0mret\u001b[0m \u001b[0;34m=\u001b[0m \u001b[0mself\u001b[0m\u001b[0;34m.\u001b[0m\u001b[0m_cache\u001b[0m\u001b[0;34m[\u001b[0m\u001b[0mkey\u001b[0m\u001b[0;34m]\u001b[0m \u001b[0;34m=\u001b[0m \u001b[0mself\u001b[0m\u001b[0;34m.\u001b[0m\u001b[0mfn\u001b[0m\u001b[0;34m(\u001b[0m\u001b[0;34m*\u001b[0m\u001b[0margs\u001b[0m\u001b[0;34m,\u001b[0m \u001b[0;34m**\u001b[0m\u001b[0mkwargs\u001b[0m\u001b[0;34m)\u001b[0m\u001b[0;34m\u001b[0m\u001b[0m\n\u001b[0m\u001b[1;32m     29\u001b[0m \u001b[0;34m\u001b[0m\u001b[0m\n\u001b[1;32m     30\u001b[0m     \u001b[0;32mreturn\u001b[0m \u001b[0mret\u001b[0m\u001b[0;34m\u001b[0m\u001b[0m\n",
      "\u001b[0;32m/anaconda2/lib/python2.7/site-packages/wikipedia/wikipedia.pyc\u001b[0m in \u001b[0;36msummary\u001b[0;34m(title, sentences, chars, auto_suggest, redirect)\u001b[0m\n\u001b[1;32m    229\u001b[0m   \u001b[0;31m# use auto_suggest and redirect to get the correct article\u001b[0m\u001b[0;34m\u001b[0m\u001b[0;34m\u001b[0m\u001b[0m\n\u001b[1;32m    230\u001b[0m   \u001b[0;31m# also, use page's error checking to raise DisambiguationError if necessary\u001b[0m\u001b[0;34m\u001b[0m\u001b[0;34m\u001b[0m\u001b[0m\n\u001b[0;32m--> 231\u001b[0;31m   \u001b[0mpage_info\u001b[0m \u001b[0;34m=\u001b[0m \u001b[0mpage\u001b[0m\u001b[0;34m(\u001b[0m\u001b[0mtitle\u001b[0m\u001b[0;34m,\u001b[0m \u001b[0mauto_suggest\u001b[0m\u001b[0;34m=\u001b[0m\u001b[0mauto_suggest\u001b[0m\u001b[0;34m,\u001b[0m \u001b[0mredirect\u001b[0m\u001b[0;34m=\u001b[0m\u001b[0mredirect\u001b[0m\u001b[0;34m)\u001b[0m\u001b[0;34m\u001b[0m\u001b[0m\n\u001b[0m\u001b[1;32m    232\u001b[0m   \u001b[0mtitle\u001b[0m \u001b[0;34m=\u001b[0m \u001b[0mpage_info\u001b[0m\u001b[0;34m.\u001b[0m\u001b[0mtitle\u001b[0m\u001b[0;34m\u001b[0m\u001b[0m\n\u001b[1;32m    233\u001b[0m   \u001b[0mpageid\u001b[0m \u001b[0;34m=\u001b[0m \u001b[0mpage_info\u001b[0m\u001b[0;34m.\u001b[0m\u001b[0mpageid\u001b[0m\u001b[0;34m\u001b[0m\u001b[0m\n",
      "\u001b[0;32m/anaconda2/lib/python2.7/site-packages/wikipedia/wikipedia.pyc\u001b[0m in \u001b[0;36mpage\u001b[0;34m(title, pageid, auto_suggest, redirect, preload)\u001b[0m\n\u001b[1;32m    273\u001b[0m       \u001b[0;32mexcept\u001b[0m \u001b[0mIndexError\u001b[0m\u001b[0;34m:\u001b[0m\u001b[0;34m\u001b[0m\u001b[0m\n\u001b[1;32m    274\u001b[0m         \u001b[0;31m# if there is no suggestion or search results, the page doesn't exist\u001b[0m\u001b[0;34m\u001b[0m\u001b[0;34m\u001b[0m\u001b[0m\n\u001b[0;32m--> 275\u001b[0;31m         \u001b[0;32mraise\u001b[0m \u001b[0mPageError\u001b[0m\u001b[0;34m(\u001b[0m\u001b[0mtitle\u001b[0m\u001b[0;34m)\u001b[0m\u001b[0;34m\u001b[0m\u001b[0m\n\u001b[0m\u001b[1;32m    276\u001b[0m     \u001b[0;32mreturn\u001b[0m \u001b[0mWikipediaPage\u001b[0m\u001b[0;34m(\u001b[0m\u001b[0mtitle\u001b[0m\u001b[0;34m,\u001b[0m \u001b[0mredirect\u001b[0m\u001b[0;34m=\u001b[0m\u001b[0mredirect\u001b[0m\u001b[0;34m,\u001b[0m \u001b[0mpreload\u001b[0m\u001b[0;34m=\u001b[0m\u001b[0mpreload\u001b[0m\u001b[0;34m)\u001b[0m\u001b[0;34m\u001b[0m\u001b[0m\n\u001b[1;32m    277\u001b[0m   \u001b[0;32melif\u001b[0m \u001b[0mpageid\u001b[0m \u001b[0;32mis\u001b[0m \u001b[0;32mnot\u001b[0m \u001b[0mNone\u001b[0m\u001b[0;34m:\u001b[0m\u001b[0;34m\u001b[0m\u001b[0m\n",
      "\u001b[0;31m<type 'str'>\u001b[0m: (<type 'exceptions.UnicodeDecodeError'>, UnicodeDecodeError('ascii', '\\xe3\\x82\\xa2\\xe3\\x83\\xab\\xe3\\x82\\xb3&\\xe3\\x83\\x94\\xe3\\x83\\xbc\\xe3\\x82\\xb9\\xe3\\x81\\xae\\xe3\\x82\\xaa\\xe3\\x83\\xbc\\xe3\\x83\\xab\\xe3\\x83\\x8a\\xe3\\x82\\xa4\\xe3\\x83\\x88\\xe3\\x83\\x8b\\xe3\\x83\\x83\\xe3\\x83\\x9d\\xe3\\x83\\xb3\\xe3\\x82\\xb7\\xe3\\x83\\xaa\\xe3\\x83\\xbc\\xe3\\x82\\xba', 0, 1, 'ordinal not in range(128)'))"
     ]
    }
   ],
   "source": [
    "print wikipedia.summary(\"アルコ&ピースのオールナイトニッポンシリーズ\")\n"
   ]
  },
  {
   "cell_type": "code",
   "execution_count": null,
   "metadata": {
    "collapsed": true
   },
   "outputs": [],
   "source": [
    "import pandas as pd"
   ]
  },
  {
   "cell_type": "code",
   "execution_count": 15,
   "metadata": {
    "collapsed": true
   },
   "outputs": [],
   "source": [
    "data = pd.read_csv(\"contents.csv\",index_col=0)"
   ]
  },
  {
   "cell_type": "code",
   "execution_count": 23,
   "metadata": {},
   "outputs": [
    {
     "data": {
      "text/plain": [
       "Index([u'水曜どうでしょう', u'たりないふたり', u'ウレロシリーズ', u'シベリア少女鉄道',\n",
       "       u'アルコ&ピースのオールナイトニッポンシリーズ', u'朝井リョウ・加藤千恵のオールナイトニッポン', u'東京０３', u'ハイバイ',\n",
       "       u'シンゴジラ', u'勝手にふるえてろ'],\n",
       "      dtype='object', name=u'タイトル')"
      ]
     },
     "execution_count": 23,
     "metadata": {},
     "output_type": "execute_result"
    }
   ],
   "source": []
  },
  {
   "cell_type": "code",
   "execution_count": 26,
   "metadata": {},
   "outputs": [
    {
     "name": "stdout",
     "output_type": "stream",
     "text": [
      "How do you like Wednesday? (水曜どうでしょう, Suiyō Dōdeshō) was a Japanese television variety series that aired on HTB in Hokkaidō, Japan, and on other regional television stations in Japan. The program debuted on HTB on October 9, 1996. The series was one of the first local variety programs to be produced on Hokkaido; prior to this series' launch, local variety programs in Hokkaidō were virtually non-existent. The program also had a significant influence on other local programs in other regions in Japan, most notably Kwangaku! in Kansai and Nobunaga in Tokai.The series achieved a record 18.6% viewing share on December 8, 1999, the highest share for a late-night program on a local TV station.Production of the weekly regular series ended in September 2002, though new limited-run series were produced on average of every 18 months; the latest series was shown on HTB in late 2005, eight episodes in length.\n",
      "Most of the series have been rerun under the names of Dōdeshō Returns and Suiyō Dōdeshō Classic.\n",
      "Hiragana (平仮名, ひらがな, Japanese pronunciation: [çiɾaɡana]) is a Japanese syllabary, one component of the Japanese writing system, along with katakana, kanji, and in some cases rōmaji (Latin script). It is a phonetic lettering system. The word hiragana literally means \"ordinary\" or \"simple\" kana (\"simple\" originally as contrasted with kanji).Hiragana and katakana are both kana systems. With one or two minor exceptions, each sound in the Japanese language (strictly, each mora) is represented by one character (or one digraph) in each system. This may be either a vowel such as \"a\" (hiragana あ); a consonant followed by a vowel such as \"ka\" (か); or \"n\" (ん), a nasal sonorant which, depending on the context, sounds either like English m, n, or ng ([ŋ]), or like the nasal vowels of French. Because the characters of the kana do not represent single consonants (except in the case of ん \"n\"), the kana are referred to as syllabaries and not alphabets.Hiragana is used to write okurigana (kana suffixes following a kanji root, for example to inflect verbs and adjectives), various grammatical and function words including particles, as well as miscellaneous other native words for which there are no kanji or whose kanji form is obscure or too formal for the writing purpose. Words that do have common kanji renditions may also sometimes be written instead in hiragana, according to an individual author's preference, for example to impart an informal feel. Hiragana is also used to write furigana, a reading aid that shows the pronunciation of kanji characters.\n",
      "There are two main systems of ordering hiragana: the old-fashioned iroha ordering and the more prevalent gojūon ordering.\n"
     ]
    },
    {
     "ename": "PageError",
     "evalue": "PageError()",
     "output_type": "error",
     "traceback": [
      "\u001b[0;31m---------------------------------------------------------------------------\u001b[0m",
      "\u001b[0;31mPageError\u001b[0m                                 Traceback (most recent call last)",
      "\u001b[0;32m<ipython-input-26-05675326c963>\u001b[0m in \u001b[0;36m<module>\u001b[0;34m()\u001b[0m\n\u001b[1;32m      1\u001b[0m \u001b[0;32mfor\u001b[0m \u001b[0mi\u001b[0m \u001b[0;32min\u001b[0m \u001b[0mdata\u001b[0m\u001b[0;34m.\u001b[0m\u001b[0mindex\u001b[0m\u001b[0;34m:\u001b[0m\u001b[0;34m\u001b[0m\u001b[0m\n\u001b[0;32m----> 2\u001b[0;31m     \u001b[0;32mprint\u001b[0m \u001b[0mwikipedia\u001b[0m\u001b[0;34m.\u001b[0m\u001b[0msummary\u001b[0m\u001b[0;34m(\u001b[0m\u001b[0mi\u001b[0m\u001b[0;34m)\u001b[0m\u001b[0;34m\u001b[0m\u001b[0m\n\u001b[0m",
      "\u001b[0;32m/anaconda2/lib/python2.7/site-packages/wikipedia/util.pyc\u001b[0m in \u001b[0;36m__call__\u001b[0;34m(self, *args, **kwargs)\u001b[0m\n\u001b[1;32m     26\u001b[0m       \u001b[0mret\u001b[0m \u001b[0;34m=\u001b[0m \u001b[0mself\u001b[0m\u001b[0;34m.\u001b[0m\u001b[0m_cache\u001b[0m\u001b[0;34m[\u001b[0m\u001b[0mkey\u001b[0m\u001b[0;34m]\u001b[0m\u001b[0;34m\u001b[0m\u001b[0m\n\u001b[1;32m     27\u001b[0m     \u001b[0;32melse\u001b[0m\u001b[0;34m:\u001b[0m\u001b[0;34m\u001b[0m\u001b[0m\n\u001b[0;32m---> 28\u001b[0;31m       \u001b[0mret\u001b[0m \u001b[0;34m=\u001b[0m \u001b[0mself\u001b[0m\u001b[0;34m.\u001b[0m\u001b[0m_cache\u001b[0m\u001b[0;34m[\u001b[0m\u001b[0mkey\u001b[0m\u001b[0;34m]\u001b[0m \u001b[0;34m=\u001b[0m \u001b[0mself\u001b[0m\u001b[0;34m.\u001b[0m\u001b[0mfn\u001b[0m\u001b[0;34m(\u001b[0m\u001b[0;34m*\u001b[0m\u001b[0margs\u001b[0m\u001b[0;34m,\u001b[0m \u001b[0;34m**\u001b[0m\u001b[0mkwargs\u001b[0m\u001b[0;34m)\u001b[0m\u001b[0;34m\u001b[0m\u001b[0m\n\u001b[0m\u001b[1;32m     29\u001b[0m \u001b[0;34m\u001b[0m\u001b[0m\n\u001b[1;32m     30\u001b[0m     \u001b[0;32mreturn\u001b[0m \u001b[0mret\u001b[0m\u001b[0;34m\u001b[0m\u001b[0m\n",
      "\u001b[0;32m/anaconda2/lib/python2.7/site-packages/wikipedia/wikipedia.pyc\u001b[0m in \u001b[0;36msummary\u001b[0;34m(title, sentences, chars, auto_suggest, redirect)\u001b[0m\n\u001b[1;32m    229\u001b[0m   \u001b[0;31m# use auto_suggest and redirect to get the correct article\u001b[0m\u001b[0;34m\u001b[0m\u001b[0;34m\u001b[0m\u001b[0m\n\u001b[1;32m    230\u001b[0m   \u001b[0;31m# also, use page's error checking to raise DisambiguationError if necessary\u001b[0m\u001b[0;34m\u001b[0m\u001b[0;34m\u001b[0m\u001b[0m\n\u001b[0;32m--> 231\u001b[0;31m   \u001b[0mpage_info\u001b[0m \u001b[0;34m=\u001b[0m \u001b[0mpage\u001b[0m\u001b[0;34m(\u001b[0m\u001b[0mtitle\u001b[0m\u001b[0;34m,\u001b[0m \u001b[0mauto_suggest\u001b[0m\u001b[0;34m=\u001b[0m\u001b[0mauto_suggest\u001b[0m\u001b[0;34m,\u001b[0m \u001b[0mredirect\u001b[0m\u001b[0;34m=\u001b[0m\u001b[0mredirect\u001b[0m\u001b[0;34m)\u001b[0m\u001b[0;34m\u001b[0m\u001b[0m\n\u001b[0m\u001b[1;32m    232\u001b[0m   \u001b[0mtitle\u001b[0m \u001b[0;34m=\u001b[0m \u001b[0mpage_info\u001b[0m\u001b[0;34m.\u001b[0m\u001b[0mtitle\u001b[0m\u001b[0;34m\u001b[0m\u001b[0m\n\u001b[1;32m    233\u001b[0m   \u001b[0mpageid\u001b[0m \u001b[0;34m=\u001b[0m \u001b[0mpage_info\u001b[0m\u001b[0;34m.\u001b[0m\u001b[0mpageid\u001b[0m\u001b[0;34m\u001b[0m\u001b[0m\n",
      "\u001b[0;32m/anaconda2/lib/python2.7/site-packages/wikipedia/wikipedia.pyc\u001b[0m in \u001b[0;36mpage\u001b[0;34m(title, pageid, auto_suggest, redirect, preload)\u001b[0m\n\u001b[1;32m    273\u001b[0m       \u001b[0;32mexcept\u001b[0m \u001b[0mIndexError\u001b[0m\u001b[0;34m:\u001b[0m\u001b[0;34m\u001b[0m\u001b[0m\n\u001b[1;32m    274\u001b[0m         \u001b[0;31m# if there is no suggestion or search results, the page doesn't exist\u001b[0m\u001b[0;34m\u001b[0m\u001b[0;34m\u001b[0m\u001b[0m\n\u001b[0;32m--> 275\u001b[0;31m         \u001b[0;32mraise\u001b[0m \u001b[0mPageError\u001b[0m\u001b[0;34m(\u001b[0m\u001b[0mtitle\u001b[0m\u001b[0;34m)\u001b[0m\u001b[0;34m\u001b[0m\u001b[0m\n\u001b[0m\u001b[1;32m    276\u001b[0m     \u001b[0;32mreturn\u001b[0m \u001b[0mWikipediaPage\u001b[0m\u001b[0;34m(\u001b[0m\u001b[0mtitle\u001b[0m\u001b[0;34m,\u001b[0m \u001b[0mredirect\u001b[0m\u001b[0;34m=\u001b[0m\u001b[0mredirect\u001b[0m\u001b[0;34m,\u001b[0m \u001b[0mpreload\u001b[0m\u001b[0;34m=\u001b[0m\u001b[0mpreload\u001b[0m\u001b[0;34m)\u001b[0m\u001b[0;34m\u001b[0m\u001b[0m\n\u001b[1;32m    277\u001b[0m   \u001b[0;32melif\u001b[0m \u001b[0mpageid\u001b[0m \u001b[0;32mis\u001b[0m \u001b[0;32mnot\u001b[0m \u001b[0mNone\u001b[0m\u001b[0;34m:\u001b[0m\u001b[0;34m\u001b[0m\u001b[0m\n",
      "\u001b[0;31m<type 'str'>\u001b[0m: (<type 'exceptions.UnicodeDecodeError'>, UnicodeDecodeError('ascii', '\\xe3\\x82\\xa6\\xe3\\x83\\xac\\xe3\\x83\\xad\\xe3\\x82\\xb7\\xe3\\x83\\xaa\\xe3\\x83\\xbc\\xe3\\x82\\xba', 0, 1, 'ordinal not in range(128)'))"
     ]
    }
   ],
   "source": [
    "for i in data.index:\n",
    "    print wikipedia.summary(i)"
   ]
  },
  {
   "cell_type": "code",
   "execution_count": 30,
   "metadata": {},
   "outputs": [
    {
     "name": "stdout",
     "output_type": "stream",
     "text": [
      "{\"batchcomplete\":\"\",\"warnings\":{\"main\":{\"*\":\"Subscribe to the mediawiki-api-announce mailing list at <https://lists.wikimedia.org/mailman/listinfo/mediawiki-api-announce> for notice of API deprecations and breaking changes. Use [[Special:ApiFeatureUsage]] to see usage of deprecated features by your application.\"},\"revisions\":{\"*\":\"Because \\\"rvslots\\\" was not specified, a legacy format has been used for the output. This format is deprecated, and in the future the new format will always be used.\"}},\"query\":{\"pages\":{\"3150058\":{\"pageid\":3150058,\"ns\":0,\"title\":\"\\u671d\\u4e95\\u30ea\\u30e7\\u30a6&\\u52a0\\u85e4\\u5343\\u6075\\u306e\\u30aa\\u30fc\\u30eb\\u30ca\\u30a4\\u30c8\\u30cb\\u30c3\\u30dd\\u30f30(ZERO)\",\"revisions\":[{\"contentformat\":\"text/x-wiki\",\"contentmodel\":\"wikitext\",\"*\":\"{{\\u57fa\\u790e\\u60c5\\u5831 \\u30e9\\u30b8\\u30aa\\u756a\\u7d44\\n| \\u756a\\u7d44\\u540d = \\u671d\\u4e95\\u30ea\\u30e7\\u30a6\\u3068\\u52a0\\u85e4\\u5343\\u6075\\u306e<br />\\u30aa\\u30fc\\u30eb\\u30ca\\u30a4\\u30c8\\u30cb\\u30c3\\u30dd\\u30f30(ZERO) \\n| \\u753b\\u50cf = <!-- [[File:|200px]] \\u203b\\u300cFile:\\u300d\\u306e\\u5f8c\\u306b\\u753b\\u50cf\\u30d5\\u30a1\\u30a4\\u30eb\\u3092\\u8cbc\\u308b\\u3002\\u753b\\u50cf\\u30b5\\u30a4\\u30ba\\u306e\\u5909\\u66f4\\u306f\\u300c200px\\u300d\\u306e\\u6570\\u5b57\\u3092\\u5909\\u3048\\u308b\\u3002 -->\\n| \\u753b\\u50cf\\u8aac\\u660e = \\n| \\u611b\\u79f0 = \\n| \\u30b8\\u30e3\\u30f3\\u30eb = \\u30d0\\u30e9\\u30a8\\u30c6\\u30a3\\u756a\\u7d44\\n| \\u653e\\u9001\\u65b9\\u5f0f = \\u751f\\u653e\\u9001\\uff08\\u7a00\\u306b\\u9332\\u97f3\\uff09 \\n| \\u653e\\u9001\\u671f\\u9593 = 2015\\u5e744\\u67083\\u65e5 - 2016\\u5e743\\u670825\\u65e5\\n| \\u653e\\u9001\\u6642\\u9593 = \\u91d1\\u66dc27:00 - 29:00\\n| \\u653e\\u9001\\u56de\\u6570 = \\n| \\u653e\\u9001\\u5c40 = \\u30cb\\u30c3\\u30dd\\u30f3\\u653e\\u9001\\u307b\\u304b\\n| \\u5236\\u4f5c = \\u30cb\\u30c3\\u30dd\\u30f3\\u653e\\u9001\\n| \\u30cd\\u30c3\\u30c8\\u30ef\\u30fc\\u30af = NRN\\n| \\u30d1\\u30fc\\u30bd\\u30ca\\u30ea\\u30c6\\u30a3 = [[\\u671d\\u4e95\\u30ea\\u30e7\\u30a6]]<br>[[\\u52a0\\u85e4\\u5343\\u6075 (\\u6b4c\\u4eba)|\\u52a0\\u85e4\\u5343\\u6075]]\\n| \\u51fa\\u6f14 = \\n| \\u30c6\\u30fc\\u30de\\u66f2 = OP:[[\\u3060\\u3044\\u3059\\u304d (\\u5ca1\\u6751\\u9756\\u5e78\\u306e\\u66f2)|\\u3060\\u3044\\u3059\\u304d]]\\uff0f[[\\u5ca1\\u6751\\u9756\\u5e78]]<br>ED:[[\\u8d64\\u9ec4\\u8272\\u306e\\u91d1\\u6728\\u7280]]\\uff0f[[\\u30d5\\u30b8\\u30d5\\u30a1\\u30d6\\u30ea\\u30c3\\u30af]]<br/>BITTER SWEET SAMBA\\n| \\u4f01\\u753b = \\n| \\u30d7\\u30ed\\u30c7\\u30e5\\u30fc\\u30b5\\u30fc = \\n| \\u30c7\\u30a3\\u30ec\\u30af\\u30bf\\u30fc = \\n| \\u30b9\\u30dd\\u30f3\\u30b5\\u30fc = \\n| \\u516c\\u5f0f\\u30b5\\u30a4\\u30c8 = http://www.allnightnippon.com/program/zero/fri/\\n| \\u7279\\u8a18\\u4e8b\\u9805 = \\n}}\\n\\u300c'''\\u671d\\u4e95\\u30ea\\u30e7\\u30a6\\u3068\\u52a0\\u85e4\\u5343\\u6075\\u306e\\u30aa\\u30fc\\u30eb\\u30ca\\u30a4\\u30c8\\u30cb\\u30c3\\u30dd\\u30f30(ZERO)'''\\u300d\\uff08\\u3042\\u3055\\u3044\\u30ea\\u30e7\\u30a6\\u3068\\u304b\\u3068\\u3046\\u3061\\u3048\\u306e\\u30aa\\u30fc\\u30eb\\u30ca\\u30a4\\u30c8\\u30cb\\u30c3\\u30dd\\u30f3\\u30bc\\u30ed\\uff09\\u3068\\u306f\\u3001[[\\u30e9\\u30d6\\u30ec\\u30bf\\u30fc\\u30ba\\u306e\\u30aa\\u30fc\\u30eb\\u30ca\\u30a4\\u30c8\\u30cb\\u30c3\\u30dd\\u30f30(ZERO)]]\\u306e\\u5f8c\\u7d9a\\u756a\\u7d44\\u3068\\u3057\\u3066\\u30012015\\u5e744\\u67083\\u65e5\\u672a\\u660e\\u304b\\u3089\\u30b9\\u30bf\\u30fc\\u30c8\\u3057\\u305f\\u756a\\u7d44\\u3002\\n\\n== \\u6982\\u8981 ==\\n2\\u4eba\\u3068\\u3082\\u3001\\u30e9\\u30b8\\u30aa\\u30d1\\u30fc\\u30bd\\u30ca\\u30ea\\u30c6\\u30a3\\u3092\\u52d9\\u3081\\u308b\\u306e\\u306f\\u3001\\u3053\\u306e\\u756a\\u7d44\\u304c\\u521d\\u3081\\u3066\\u3068\\u306a\\u308b<ref name=\\\"cinematoday_20150308\\\">{{Cite news |title= \\u300c\\u6850\\u5cf6\\u300d\\u671d\\u4e95\\u30ea\\u30e7\\u30a6\\u3001ANN0\\u3067\\u30e9\\u30b8\\u30aa\\u30d1\\u30fc\\u30bd\\u30ca\\u30ea\\u30c6\\u30a3\\u30fc\\u30c7\\u30d3\\u30e5\\u30fc|newspaper= \\u30b7\\u30cd\\u30de\\u30c8\\u30a5\\u30c7\\u30a3|date= 2015-03-08|author= |url= http://www.cinematoday.jp/page/N0071328|accessdate=2015-03-08}}</ref><ref>\\u306a\\u304a\\u3001\\u52a0\\u85e4\\u306f\\u7b2c1\\u56de\\u653e\\u9001\\u3067\\u300c\\u5b9f\\u306f[[FM\\u308a\\u3079\\u30fc\\u308b]]\\uff08\\u52a0\\u85e4\\u306e\\u5730\\u5143\\u3067\\u3042\\u308b\\u65ed\\u5ddd\\u5e02\\u306e\\u30b3\\u30df\\u30e5\\u30cb\\u30c6\\u30a3FM\\uff09\\u3067\\u3084\\u3063\\u305f\\u3053\\u3068\\u3042\\u308b\\u3093\\u3060\\u3002\\u300d\\u3068\\u30e9\\u30b8\\u30aa\\u30d1\\u30fc\\u30bd\\u30ca\\u30ea\\u30c6\\u30a3\\u7d4c\\u9a13\\u304c\\u3042\\u308b\\u3053\\u3068\\u3092\\u544a\\u767d\\u3057\\u305f\\u3002\\u3053\\u308c\\u304c\\u5f8c\\u306b\\u30ec\\u30ae\\u30e5\\u30e9\\u30fc\\u30b3\\u30fc\\u30ca\\u30fc\\u3068\\u306a\\u308b\\u300c\\u304b\\u3068\\u3061\\u3048\\u00d7\\u821e\\u306e\\u30e9\\u30b8\\u30aa\\uff01\\u30e9\\u30b8\\u30aa\\uff01\\u30e9\\u30b8\\u30aa\\uff01\\u300d\\u3078\\u3068\\u7e4b\\u304c\\u308b\\u3053\\u3068\\u306b\\u306a\\u308b\\u3002</ref>\\u3002\\u7279\\u306b\\u3001\\u671d\\u4e95\\u306f\\u3042\\u3089\\u3086\\u308b\\u30e9\\u30b8\\u30aa\\u756a\\u7d44\\u306b\\u3001\\u30ea\\u30b9\\u30ca\\u30fc\\u3068\\u3057\\u3066\\u305f\\u3073\\u305f\\u3073\\u6295\\u7a3f\\u3057\\u3066\\u3044\\u308b<ref>{{Cite news |title= \\u671d\\u4e95\\u30ea\\u30e7\\u30a6\\u6c0f\\u3001\\u521d\\u30e9\\u30b8\\u30aa\\u306b\\u300c\\u3055\\u307e\\u3056\\u307e\\u306a\\u756a\\u7d44\\u306e\\u30a8\\u30c3\\u30bb\\u30f3\\u30b9\\u3092\\u300d|newspaper= \\u30b5\\u30f3\\u30b1\\u30a4\\u30b9\\u30dd\\u30fc\\u30c4|date= 2015-03-08|author= |url= http://www.sanspo.com/geino/news/20150308/oth15030805020010-n1.html|accessdate=2015-03-08}}</ref>\\u3002\\n\\n\\u305d\\u306e\\u671d\\u4e95\\u306f\\u3001\\u300c\\u8a31\\u3057\\u3066\\u304f\\u3060\\u3055\\u3044\\u3068\\u3044\\u3046\\u6c17\\u6301\\u3061\\u3067\\u3059\\u3002\\u9762\\u767d\\u3044\\u8a71\\u304c\\u3067\\u304d\\u308b\\u308f\\u3051\\u3067\\u3082\\u540d\\u524d\\u306b\\u5f15\\u304d\\u304c\\u3042\\u308b\\u308f\\u3051\\u3067\\u3082\\u306a\\u304f\\u3001\\u305f\\u3060\\u300e\\u30e9\\u30b8\\u30aa\\u3092\\u8074\\u304f\\u306e\\u304c\\u597d\\u304d\\u300f\\u3068\\u3044\\u3046\\u4eba\\u9593\\u306b\\u3053\\u3093\\u306a\\u67a0\\u3092\\u9810\\u3051\\u308b\\u306a\\u3093\\u3066\\u30cb\\u30c3\\u30dd\\u30f3\\u653e\\u9001\\u306f\\u3069\\u3046\\u3057\\u305f\\u3093\\u3067\\u3057\\u3087\\u3046\\u304b\\u300d\\u3068\\u3057\\u305f\\u4e0a\\u3067\\u300c\\u81ea\\u5206\\u304c\\u597d\\u304d\\u3060\\u3063\\u305f\\u3055\\u307e\\u3056\\u307e\\u306a\\u756a\\u7d44\\u306e\\u30a8\\u30c3\\u30bb\\u30f3\\u30b9\\u3092\\u8a70\\u3081\\u8fbc\\u307f\\u3001\\u305d\\u308c\\u3092\\u30aa\\u30ea\\u30b8\\u30ca\\u30ea\\u30c6\\u30a3\\u30fc\\u3068\\u8a00\\u3044\\u5f35\\u308a\\u305f\\u3044\\u3068\\u601d\\u3044\\u307e\\u3059\\u3002\\u3088\\u308d\\u3057\\u304f\\u304a\\u9858\\u3044\\u81f4\\u3057\\u307e\\u3059\\uff01\\u300d\\u3068\\u62b1\\u8ca0\\u3092\\u8ff0\\u3079\\u3066\\u3044\\u308b<ref name=\\\"cinematoday_20150308\\\"/>\\u3002\\n\\n\\u52a0\\u85e4\\u306f\\u30e1\\u30fc\\u30eb\\u30e1\\u30c3\\u30bb\\u30fc\\u30b8\\u3092\\u300c'''\\u30ab\\u30fc\\u30c9'''\\u300d\\u3068\\u79f0\\u3057\\u3001[[\\u96fb\\u5b50\\u30e1\\u30fc\\u30eb]]\\u30a2\\u30c9\\u30ec\\u30b9\\u3082\\u300c'''\\u30ab\\u30fc\\u30c9'''\\u30a2\\u30c9\\u30ec\\u30b9\\u300d\\u3068\\u8aad\\u307f\\u66ff\\u3048\\u3066\\u3044\\u308b\\uff08\\u52a0\\u85e4\\u66f0\\u304f\\u300e[[\\u8fbb\\u4ec1\\u6210\\u306e\\u30aa\\u30fc\\u30eb\\u30ca\\u30a4\\u30c8\\u30cb\\u30c3\\u30dd\\u30f3]]\\u300f\\u306b\\u304a\\u3044\\u3066\\u30cf\\u30ac\\u30ad\\u3092\\u30ab\\u30fc\\u30c9\\u3068\\u547c\\u3093\\u3067\\u3044\\u305f\\u3053\\u3068\\u306b\\u7531\\u6765\\u3059\\u308b\\u3001\\u3068\\u3044\\u3046\\u65e8\\u306e\\u8aac\\u660e\\u3092\\u884c\\u3044\\u3064\\u3064\\u30e1\\u30c3\\u30bb\\u30fc\\u30b8\\u52df\\u96c6\\u3092\\u884c\\u3063\\u3066\\u3044\\u305f\\u3002\\uff09<ref>\\u9014\\u4e2d\\u304b\\u3089\\u300c\\u00a9\\u8fbb\\u4ec1\\u6210\\uff08\\u7121\\u8a31\\u53ef\\uff09\\u300d\\u3068\\u3044\\u3046\\u77ed\\u7e2e\\u5f62\\u306b\\u5909\\u66f4\\u3057\\u3066\\u9032\\u884c\\u3002\\u300c\\u30ab\\u30fc\\u30c9\\u300d\\u306f\\u300c[[\\u306f\\u304c\\u304d|\\u90f5\\u4fbf\\u306f\\u304c\\u304d]]\\u300d\\u306b\\u7531\\u6765\\u3059\\u308b\\u3082\\u306e\\u3067\\u3001\\u8fbb\\u306e\\u653e\\u9001\\u5f53\\u6642\\u306b\\u306f\\u591a\\u304f\\u306e\\u756a\\u7d44\\u3067\\u3053\\u306e\\u3088\\u3046\\u306a\\u52df\\u96c6\\u304c\\u884c\\u308f\\u308c\\u3066\\u3044\\u305f\\u3002\\u73fe\\u5728\\u3067\\u3082\\u300c[[\\u5c71\\u4e0b\\u9054\\u90ce\\u306e\\u30b5\\u30f3\\u30c7\\u30fc\\u30fb\\u30bd\\u30f3\\u30b0\\u30d6\\u30c3\\u30af]]\\u300d\\u306a\\u3069\\u3054\\u304f\\u4e00\\u90e8\\u306e\\u756a\\u7d44\\u3084DJ\\u304c\\u6295\\u7a3f\\u306f\\u304c\\u304d\\u3092\\u300c\\u30e1\\u30c3\\u30bb\\u30fc\\u30b8\\u30ab\\u30fc\\u30c9\\u300d\\u300c\\u30ea\\u30af\\u30a8\\u30b9\\u30c8\\u30ab\\u30fc\\u30c9\\u300d\\u3068\\u3057\\u3066\\u7d39\\u4ecb\\u3057\\u3066\\u3044\\u308b\\u3002</ref>\\u305d\\u308c\\u3092\\u671d\\u4e95\\u306f\\u6c17\\u306b\\u5165\\u3089\\u306a\\u3044\\u3089\\u3057\\u304f\\u3001\\u3061\\u3087\\u304f\\u3061\\u3087\\u304f\\u300c\\u30e1\\u30fc\\u30eb!\\u300d\\u3068\\u7a81\\u3063\\u8fbc\\u3093\\u3067\\u3044\\u305f\\u3002\\u307e\\u305f\\u671d\\u4e95\\u306e\\u300c\\u30e1\\u30fc\\u30eb\\u300d\\u306b\\u5bfe\\u3057\\u52a0\\u85e4\\u304c\\u300c\\u30ab\\u30fc\\u30c9\\u306d\\u300d\\u3068\\u7a81\\u3063\\u8fbc\\u3080\\u5834\\u9762\\u3082\\u591a\\u3005\\u3042\\u3063\\u305f\\u3002\\u3057\\u304b\\u3057\\u3001\\u52a0\\u85e4\\u306f\\u3064\\u3089\\u308c\\u305f\\u308a\\u52e2\\u3044\\u3067\\u300c\\u30e1\\u30fc\\u30eb\\u300d\\u3068\\u3044\\u3046\\u3053\\u3068\\u304c\\u3042\\u308a\\u3001\\u9006\\u306b\\u671d\\u4e95\\u3082\\u52e2\\u3044\\u3067\\u300c\\u30ab\\u30fc\\u30c9\\u300d\\u3068\\u8a00\\u3063\\u3066\\u3057\\u307e\\u3046\\u3053\\u3068\\u304c\\u3042\\u3063\\u305f\\u3002\\u7d50\\u679c\\u3001\\u756a\\u7d44\\u5185\\u3067\\u306f\\u8fbb\\u4ec1\\u6210\\uff1d\\u30ab\\u30fc\\u30c9\\u306e\\u4eba\\u3068\\u3044\\u3046\\u69cb\\u56f3\\u304c\\u51fa\\u6765\\u4e0a\\u304c\\u3063\\u3066\\u3044\\u308b\\u3068\\u3044\\u3046\\u3002\\n\\n== \\u653e\\u9001\\u6642\\u9593 ==\\n* \\u91d1\\u66dc\\u300027:00 - 29:00\\n[[\\u897f\\u65e5\\u672c\\u653e\\u9001]]\\u3068[[\\u5357\\u6d77\\u653e\\u9001]]<ref>2015\\u5e749\\u6708\\u307e\\u3067\\u306f29:00\\u307e\\u3067\\u306e\\u30d5\\u30eb\\u30cd\\u30c3\\u30c8\\u3060\\u3063\\u305f\\u3002</ref>\\u306f28:00\\u307e\\u3067\\u306e1\\u6642\\u9593\\u653e\\u9001\\u3068\\u306a\\u3063\\u3066\\u3044\\u308b\\u3002\\u300c[[\\u30aa\\u30fc\\u30eb\\u30ca\\u30a4\\u30c8\\u30cb\\u30c3\\u30dd\\u30f30(ZERO)#\\u30cd\\u30c3\\u30c8\\u5c40]]\\u300d\\u3082\\u53c2\\u7167\\u3002\\n\\n== \\u30c6\\u30fc\\u30de\\u66f2 ==\\n* \\u30aa\\u30fc\\u30d7\\u30cb\\u30f3\\u30b0\\uff1a[[\\u5ca1\\u6751\\u9756\\u5e78]]\\u300c[[\\u3060\\u3044\\u3059\\u304d (\\u5ca1\\u6751\\u9756\\u5e78\\u306e\\u66f2)|\\u3060\\u3044\\u3059\\u304d]]\\u300d\\n* \\u30a8\\u30f3\\u30c7\\u30a3\\u30f3\\u30b0\\uff1a[[\\u30d5\\u30b8\\u30d5\\u30a1\\u30d6\\u30ea\\u30c3\\u30af]]\\u300c[[\\u8d64\\u9ec4\\u8272\\u306e\\u91d1\\u6728\\u7280]]\\u300d\\u2192[[\\u30cf\\u30fc\\u30d6\\u30fb\\u30a2\\u30eb\\u30d1\\u30fc\\u30c8]]\\u3068\\u30c6\\u30a3\\u30d5\\u30a1\\u30ca\\u30fb\\u30d6\\u30e9\\u30b9\\u300c[[BITTERSWEET SAMBA]]\\u300d\\n\\u300cBITTERSWEET SAMBA\\u300d\\u4ee5\\u5916\\u306f2\\u4eba\\u304c\\u76f8\\u8ac7\\u306b\\u76f8\\u8ac7\\u3092\\u91cd\\u306d\\u305f\\u4e0a\\u3067\\u6c7a\\u5b9a\\u3057\\u305f\\u3002\\n\\n== \\u30b3\\u30fc\\u30ca\\u30fc ==\\n\\u4f5c\\u5bb6\\u304c\\u6587\\u7ae0\\u3092\\u66f8\\u304d\\u4e0a\\u3052\\u305f\\u3068\\u304d\\u306e\\u8a00\\u8449\\u3092\\u7528\\u3044\\u3066\\u3001\\u30b3\\u30fc\\u30ca\\u30fc\\u306e\\u7d42\\u4e86\\u6642\\u306f\\u300c'''\\u6821\\u4e86'''\\u300d\\u3068\\u767a\\u305b\\u3089\\u308c\\u3066\\u7d42\\u308f\\u3063\\u305f\\u3002\\n* \\u6ce3\\u304d\\u306a\\u304c\\u3089\\u4e00\\u6c17\\u306b\\u8aad\\u307f\\u307e\\u3057\\u305f\\n:\\u672c\\u306e\\u5e2f\\u30b3\\u30e1\\u30f3\\u30c8\\u3092\\u8ab0\\u304c\\u3069\\u3093\\u306a\\u98a8\\u306b\\u66f8\\u3051\\u3070\\u58f2\\u308c\\u308b\\u306e\\u304b\\u3001\\u3092\\u52df\\u96c6\\u3059\\u308b\\u30b3\\u30fc\\u30ca\\u30fc\\u3002\\u307b\\u3068\\u3093\\u3069\\u30e1\\u30fc\\u30eb\\u304c\\u5c4a\\u304b\\u305a1\\u56de\\u7d39\\u4ecb\\u3057\\u305f\\u306e\\u307f\\u3067\\u6821\\u4e86\\u3057\\u305f\\u3002\\n\\n* \\u611b\\u3055\\u308c\\u82b1\\u5ac1\\n:\\u3088\\u304f\\u8003\\u3048\\u308b\\u3068\\u77db\\u76fe\\u3057\\u3066\\u3044\\u308b\\u304b\\u306e\\u3088\\u3046\\u306a\\u30d5\\u30ec\\u30fc\\u30ba\\u3092\\u52df\\u96c6\\u3059\\u308b\\u30b3\\u30fc\\u30ca\\u30fc\\u30022015\\u5e745\\u670822\\u65e5\\u306b\\u6821\\u4e86\\u3057\\u305f\\u3002\\n\\n* \\u524d\\u306e\\u30bf\\u30af\\u30b7\\u30fc\\u8ffd\\u3063\\u3066\\u304f\\u3060\\u3055\\u3044\\n:\\u4eba\\u751f\\u3067\\u4e00\\u5ea6\\u306f\\u8a00\\u3063\\u3066\\u307f\\u305f\\u3044\\u53f0\\u8a5e\\u3092\\u52df\\u96c6\\u3059\\u308b\\u30b3\\u30fc\\u30ca\\u30fc\\u3002\\n:2015\\u5e745\\u6708\\u3088\\u308a\\u3001\\u53f0\\u8a5e\\u3092\\u7d39\\u4ecb\\u5f8c\\u3001\\u7de0\\u3081\\u306b\\u300c\\u30bf\\u30af\\u30b7\\u30fc!\\u300d\\u3068\\u3069\\u306a\\u308a\\u3092\\u3044\\u308c\\u308b\\u3053\\u3068\\u304c\\u5b9a\\u4f8b\\u3068\\u306a\\u3063\\u3066\\u3044\\u305f\\u30022015\\u5e749\\u67084\\u65e5\\u306b\\u6821\\u4e86\\u3057\\u305f\\u3002\\n\\n* \\u56fd\\u5883\\u306e\\u9577\\u3044\\u30c8\\u30f3\\u30cd\\u30eb\\u3092\\u629c\\u3051\\u308b\\u3068...... \\n:\\u540d\\u4f5c\\u3067\\u3042\\u308b\\u3053\\u3068\\u3092\\u4e88\\u611f\\u3055\\u305b\\u308b\\u300c\\u5c0f\\u8aac\\u306e\\u4e00\\u884c\\u76ee\\u300d\\u306e\\u307f\\u3092\\u52df\\u96c6\\u3059\\u308b\\u30b3\\u30fc\\u30ca\\u30fc\\u3002\\n:2015\\u5e746\\u6708\\u306e\\u653e\\u9001\\u5206\\u3088\\u308a\\u3001\\u30de\\u30a4\\u30ca\\u30d3\\u30a6\\u30fc\\u30de\\u30f3\\u306e[[\\u897f\\u5ddd\\u7523\\u696d|\\u6771\\u4eac\\u897f\\u5ddd]]\\u306e\\u30da\\u30fc\\u30b8\\u300c[http://woman.mynavi.jp/ad/nishikawa05/vol01.html \\u9023\\u8f09\\u5c0f\\u8aac 6\\u4eba\\u306e\\u7720\\u308a\\u59eb]\\u300d\\u3068\\u306e\\u9023\\u52d5\\u4f01\\u753b\\u3068\\u3057\\u3066\\u3001\\u3053\\u306e\\u30b3\\u30fc\\u30ca\\u30fc\\u3067\\u63a1\\u7528\\u3055\\u308c\\u305f\\u4e2d\\u304b\\u3089\\u6bce\\u6708\\u4e00\\u3064\\u3092\\u52a0\\u85e4\\u304c\\u9078\\u3073\\u3001\\u5b9f\\u969b\\u306b\\u305d\\u308c\\u3092\\u66f8\\u304d\\u51fa\\u3057\\u306b\\u4f7f\\u3063\\u305f\\u5c0f\\u8aac\\u3092\\u66f8\\u304f\\u3053\\u3068\\u304c\\u767a\\u8868\\u3055\\u308c\\u305f\\u3002\\u30e9\\u30b8\\u30aa\\u5185\\u3067\\u306e\\u30b3\\u30fc\\u30ca\\u30fc\\u306f2016\\u5e743\\u670811\\u65e5\\u306b\\u6821\\u4e86\\u3057\\u305f\\u304c\\u3001\\u52a0\\u85e4\\u304cMC\\u3092\\u62c5\\u5f53\\u3057\\u3066\\u3044\\u308b\\u300c[[\\u30db\\u30a6\\u30c9\\u30a6\\u30ad\\u30e7\\u30af24|\\u771f\\u591c\\u4e2d\\u306e\\u30cb\\u30e3\\u30fc\\u30b4]]\\u300d\\u3067\\u30012016\\u5e744\\u6708\\u4ee5\\u964d\\u3082\\u6708\\u306b1\\u56de\\u3001\\u671d\\u4e95\\u306e\\u756a\\u7d44\\u51fa\\u6f14\\u65e5\\u306b\\u3053\\u306e\\u30b3\\u30fc\\u30ca\\u30fc\\u3092\\u7d99\\u7d9a\\u3059\\u308b\\u3053\\u3068\\u304c\\u767a\\u8868\\u3055\\u308c\\u305f\\u3002\\n\\n* \\u304b\\u3068\\u3061\\u3048\\u00d7\\u821e\\u306e\\u30e9\\u30b8\\u30aa\\uff01\\u30e9\\u30b8\\u30aa\\uff01\\u30e9\\u30b8\\u30aa\\uff01\\u21d2\\u304b\\u3068\\u3061\\u3048\\u00d7\\u821e\\u306e\\u30e9\\u30b8\\u30aa\\uff01\\u30e9\\u30b8\\u30aa\\uff01\\u30e9\\u30b8\\u30aa\\uff012015\\u21d2\\u304b\\u3068\\u3061\\u3048\\u00d7\\u821e\\u306e\\u30e9\\u30b8\\u30aa\\uff01\\u30e9\\u30b8\\u30aa\\uff01\\u30e9\\u30b8\\u30aa\\uff012016\\n:\\u52a0\\u85e4\\u304c\\u9ad8\\u6821\\u6642\\u4ee3\\u306b\\u540c\\u7d1a\\u751f\\u306e\\u300c\\u3072\\u3089\\u307e\\u3044\\u300d\\u3068\\u5730\\u5143[[\\u65ed\\u5ddd\\u5e02]]\\u306e[[\\u30b3\\u30df\\u30e5\\u30cb\\u30c6\\u30a3FM]]\\u3001[[FM\\u308a\\u3079\\u30fc\\u308b]]\\u3067\\u62c5\\u5f53\\u3057\\u3066\\u3044\\u305f\\u30ec\\u30ae\\u30e5\\u30e9\\u30fc\\u756a\\u7d44\\u304c\\u3069\\u3093\\u306a\\u5185\\u5bb9\\u3060\\u3063\\u305f\\u306e\\u304b\\u3092\\u30ea\\u30b9\\u30ca\\u30fc\\u306b\\u6559\\u3048\\u3066\\u3082\\u3089\\u3046\\u30b3\\u30fc\\u30ca\\u30fc\\u3002\\u52a0\\u85e4\\u306b\\u306f\\u5185\\u5bc6\\u3067\\u59cb\\u307e\\u3063\\u305f\\u4e0a\\u3001\\u672c\\u4eba\\u3082\\u5168\\u304f\\u5185\\u5bb9\\u306f\\u77e5\\u3089\\u306a\\u3044\\u3002\\u3061\\u306a\\u307f\\u306b\\u756a\\u7d44\\u540d\\u306f[[\\u30d5\\u30ea\\u30c3\\u30d1\\u30fc\\u30ba\\u30fb\\u30ae\\u30bf\\u30fc]]\\u306e\\u300c\\u30ab\\u30e1\\u30e9! \\u30ab\\u30e1\\u30e9! \\u30ab\\u30e1\\u30e9!\\u300d\\u304b\\u3089\\u5f15\\u7528\\u3057\\u3066\\u3044\\u308b\\u3068\\u306e\\u3053\\u3068\\u3002\\n:2015\\u5e746\\u670812\\u65e5\\u306f\\u30b9\\u30da\\u30b7\\u30e3\\u30eb\\u30a6\\u30a3\\u30fc\\u30af\\u958b\\u50ac\\u306b\\u5408\\u308f\\u305b\\u3001\\u69d8\\u3005\\u306a\\u30eb\\u30fc\\u30c8\\u3092\\u4f7f\\u3063\\u3066\\u767a\\u6398\\u3057\\u305f\\u30ec\\u30ae\\u30e5\\u30e9\\u30fc\\u756a\\u7d44\\u653e\\u9001\\u5f53\\u6642\\u306e\\u5b9f\\u969b\\u306e\\u97f3\\u6e90\\u3068\\u3001FM\\u308a\\u3079\\u30fc\\u308b\\u306e\\u30b9\\u30c6\\u30fc\\u30b7\\u30e7\\u30f3\\u30b8\\u30f3\\u30b0\\u30eb\\u3092\\u6d41\\u3059\\u7279\\u5225\\u4f01\\u753b\\u300c\\u307f\\u3093\\u306a\\u96c6\\u307e\\u308c\\u65ed\\u5ddd\\u3063\\u3057\\u3087\\u3044\\u30b9\\u30da\\u30b7\\u30e3\\u30eb\\uff01\\uff01\\u300d\\u3092\\u884c\\u3063\\u305f\\u3002\\n:\\u305d\\u306e\\u7fcc\\u9031\\u306b\\u3044\\u3063\\u305f\\u3093\\u6821\\u4e86\\u5ba3\\u8a00\\u3057\\u305f\\u4e0a\\u3067\\u30ea\\u30cb\\u30e5\\u30fc\\u30a2\\u30eb\\u3092\\u767a\\u8868\\u3057\\u3001\\u5f53\\u6642\\u306e\\u756a\\u7d44\\u5185\\u5bb9\\u3092\\u6559\\u3048\\u3066\\u3082\\u3089\\u3046\\u30b3\\u30fc\\u30ca\\u30fc\\u304b\\u3089\\u30012015\\u5e74\\u53ca\\u30732016\\u5e74\\u306e\\u73fe\\u5728\\u3082\\u756a\\u7d44\\u304c\\u7d9a\\u3044\\u3066\\u3044\\u308b\\u3068\\u3044\\u3046\\u524d\\u63d0\\u3067\\u611f\\u60f3\\u3092\\u9001\\u3063\\u3066\\u3082\\u3089\\u3046\\u3068\\u3044\\u3046\\u30b3\\u30fc\\u30ca\\u30fc\\u306b\\u5909\\u66f4\\u3055\\u308c\\u305f\\u3002\\u30ea\\u30cb\\u30e5\\u30fc\\u30a2\\u30eb\\u5f8c\\u306f\\u756a\\u7d44\\u30b8\\u30f3\\u30b0\\u30eb\\u3067\\u306f\\u306a\\u304fFM\\u308a\\u3079\\u30fc\\u308b\\u306e\\u30b9\\u30c6\\u30fc\\u30b7\\u30e7\\u30f3\\u30b8\\u30f3\\u30b0\\u30eb\\u3092\\u6d41\\u3059\\u3053\\u3068\\u3092\\u5408\\u56f3\\u306b\\u3057\\u3066\\u3044\\u308b\\u30022016\\u5e743\\u670818\\u65e5\\u306b\\u6821\\u4e86\\u3057\\u305f\\u3002\\n\\n* \\u306a\\u305c\\u3001\\u3053\\u306e\\u4eba\\u3068\\u8a71\\u3092\\u3059\\u308b\\u3068\\u697d\\u306b\\u306a\\u308b\\u306e\\u304b\\n:\\u30cb\\u30c3\\u30dd\\u30f3\\u653e\\u9001\\u306e[[\\u5409\\u7530\\u5c1a\\u8a18]]\\u30a2\\u30ca\\u30a6\\u30f3\\u30b5\\u30fc\\u306e\\u8457\\u66f8\\u300c\\u306a\\u305c\\u3001\\u3053\\u306e\\u4eba\\u3068\\u8a71\\u3092\\u3059\\u308b\\u3068\\u697d\\u306b\\u306a\\u308b\\u306e\\u304b\\u300d\\u306e\\u3088\\u3046\\u306a\\u3001\\u58f2\\u308c\\u305d\\u3046\\u306a\\u65b0\\u66f8\\u306e\\u30bf\\u30a4\\u30c8\\u30eb\\u3092\\u52df\\u96c6\\u3059\\u308b\\u30b3\\u30fc\\u30ca\\u30fc\\u30022016\\u5e743\\u670811\\u65e5\\u306b\\u6821\\u4e86\\u3057\\u305f\\u3002\\n\\n*\\u4f55\\u8005\\u30ad\\u30e3\\u30b9\\u30c8\\u4e88\\u60f3\\n:\\u671d\\u4e95\\u306e[[\\u76f4\\u6728\\u8cde]]\\u53d7\\u8cde\\u4f5c\\u3067\\u3042\\u308b\\u300c[[\\u4f55\\u8005 (\\u671d\\u4e95\\u30ea\\u30e7\\u30a6)|\\u4f55\\u8005]]\\u300d\\u304c\\u5b9f\\u5199\\u6620\\u753b\\u5316\\u3055\\u308c\\u308b\\u3053\\u3068\\u306b\\u306a\\u308a\\u30012016\\u5e74\\u79cb\\u306e\\u516c\\u958b\\u304c\\u767a\\u8868\\u3055\\u308c\\u305f\\u306e\\u306b\\u5408\\u308f\\u305b\\u3001\\u4e3b\\u8981\\u30ad\\u30e3\\u30b9\\u30c8\\u4e94\\u4eba\\u306e\\u4e88\\u60f3\\u3092\\u52df\\u96c6\\u3057\\u3066\\u3044\\u305f\\u3002\\u4e88\\u60f3\\u306f\\u4e00\\u4eba\\u4e00\\u901a\\u306e\\u307f\\u3001\\u7de0\\u5207\\u306f\\u30ad\\u30e3\\u30b9\\u30c8\\u306e\\u516c\\u5f0f\\u767a\\u8868\\u307e\\u3067\\u3002\\n\\n* \\u66f2\\u5bfe\\u6c7a\\u306e\\u30b3\\u30fc\\u30ca\\u30fc\\n:\\u9031\\u66ff\\u308f\\u308a\\u306e\\u30c6\\u30fc\\u30de\\u30672\\u4eba\\u304c\\u66f2\\u3092\\u30bb\\u30ec\\u30af\\u30c8\\u3057\\u3001\\u300c\\u66f2\\u540d\\u3084\\u30a2\\u30fc\\u30c6\\u30a3\\u30b9\\u30c8\\u306b\\u306f\\u89e6\\u308c\\u306a\\u3044\\u3088\\u3046\\u306b\\u300d\\u30d7\\u30ec\\u30bc\\u30f3\\u3002\\u30b9\\u30bf\\u30c3\\u30d5\\u306e\\u6319\\u624b\\u304c\\u591a\\u304b\\u3063\\u305f\\u65b9\\u306e\\u66f2\\u304c\\u304b\\u304b\\u308b\\u3002\\u300e[[\\u30d0\\u30ca\\u30ca\\u30de\\u30f3\\u306e\\u30d0\\u30ca\\u30ca\\u30e0\\u30fc\\u30f3GOLD]]\\u300f\\u306b\\u3082\\u4f3c\\u305f\\u3088\\u3046\\u306a\\u30b3\\u30fc\\u30ca\\u30fc\\u304c\\u3042\\u308b\\u304c\\u3001\\u6bce\\u56de\\u3001\\u300c\\u30d0\\u30ca\\u30ca\\u30e0\\u30fc\\u30f3\\u3068\\u306f\\u95a2\\u4fc2\\u3042\\u308a\\u307e\\u305b\\u3093\\u300d\\u3068\\u65ad\\u308a\\u3092\\u5165\\u308c\\u3066\\u3044\\u308b<ref>\\u300e\\u30d0\\u30ca\\u30ca\\u30e0\\u30fc\\u30f3\\u300f\\u306f\\u30d1\\u30fc\\u30bd\\u30ca\\u30ea\\u30c6\\u30a3\\u304c\\u9078\\u66f2\\u3059\\u308b\\u70b9\\u304c\\u540c\\u3058\\u3060\\u304c'''\\u30c7\\u30a3\\u30ec\\u30af\\u30bf\\u30fc\\u306e\\u72ec\\u65ad'''\\u3067\\u304b\\u304b\\u308b\\u70b9\\u304c\\u7570\\u306a\\u308b\\u3002</ref>\\u30022016\\u5e743\\u670825\\u65e5\\u306b\\u6821\\u4e86\\u3057\\u305f\\u3002\\n\\n\\u3053\\u306e\\u307b\\u304b\\u30013\\u6642\\u53f0\\u306e\\u6700\\u5f8c\\u306f\\u671d\\u4e95\\u304c\\u30bb\\u30ec\\u30af\\u30c8\\u3057\\u305f\\u300c[[\\u3064\\u3093\\u304f\\u2642]]\\u300d\\u30d7\\u30ed\\u30c7\\u30e5\\u30fc\\u30b9\\u306e\\u66f2\\u304c\\u304b\\u304b\\u308a\\u3001\\u307e\\u305f[[CM\\u30d5\\u30a3\\u30e9\\u30fc]]\\u3067\\u6d41\\u308c\\u308b12\\u66f2\\u306fAD\\u304c\\u9031\\u66ff\\u308f\\u308a\\u306e\\u30c6\\u30fc\\u30de\\u306b\\u6cbf\\u3063\\u3066\\u9078\\u66f2\\u3057\\u3066\\u3044\\u308b\\u3002\\n\\n\\u306a\\u304a\\u30013\\u6642\\u53f0\\u304b\\u30894\\u6642\\u53f0\\u306e\\u524d\\u534a\\u306f\\u4e3b\\u306b2\\u4eba\\u306e\\u30d5\\u30ea\\u30fc\\u30c8\\u30fc\\u30af\\u3067\\u69cb\\u6210\\u3055\\u308c\\u308b\\u306e\\u3067\\u6982\\u306d4:20\\u9803\\u304b\\u3089\\u968f\\u6642\\u30b3\\u30fc\\u30ca\\u30fc\\u3092\\u884c\\u3046\\u304c\\u3001\\u30d5\\u30ea\\u30fc\\u30c8\\u30fc\\u30af\\u304c\\u4f38\\u3073\\u3059\\u304e\\u3066\\u7d50\\u679c\\u7684\\u306b\\u3059\\u3079\\u3066\\u306e\\u30b3\\u30fc\\u30ca\\u30fc\\u304c\\u98db\\u3093\\u3060\\u3053\\u3068\\u3082\\u3042\\u308b\\u3002\\n\\n== \\u30b2\\u30b9\\u30c8\\u53ca\\u3073\\u305d\\u306e\\u4ed6\\u306e\\u51fa\\u6f14\\u8005 ==\\n* [[\\u4e45\\u4fdd\\u30df\\u30c4\\u30ed\\u30a6]]\\u3001[[\\u80fd\\u753a\\u307f\\u306d\\u5b50]]\\uff082015\\u5e744\\u67083\\u65e5\\u653e\\u9001\\u5206\\uff09- \\u706b\\u66dcZERO\\u7b2c\\u4e00\\u671f\\u30d1\\u30fc\\u30bd\\u30ca\\u30ea\\u30c6\\u30a3\\u3001\\u306e\\u3061\\u306b\\u706b\\u66dc\\u4e00\\u90e8\\u3001\\u6728\\u66dcGOLD\\u3092\\u62c5\\u5f53\\u3057\\u305f\\u3002\\u671d\\u4e95\\u30fb\\u52a0\\u85e4\\u3068\\u3082\\u3061\\u3087\\u304f\\u3061\\u3087\\u304f\\u4f1a\\u3063\\u3066\\u3044\\u308b\\u3088\\u3046\\u3067\\u3001\\u7b2c1\\u56de\\u653e\\u9001\\u3068\\u3044\\u3046\\u3053\\u3068\\u3082\\u3042\\u308a\\u6700\\u521d\\u306f\\u898b\\u5b88\\u308b\\u3064\\u3082\\u308a\\u3067\\u898b\\u5b66\\u306b\\u6765\\u3066\\u3044\\u305f\\u304c\\u3001\\u7d50\\u5c404\\u6642\\u53f0\\u304b\\u3089\\u6025\\u907d\\u30b9\\u30bf\\u30b8\\u30aa\\u306b\\u4e71\\u5165\\u3002\\n* [[\\u677e\\u5c45\\u5927\\u609f]]\\uff082015\\u5e749\\u670811\\u65e5\\u653e\\u9001\\u5206\\uff09\\n* [[\\u6625\\u65e5\\u4fca\\u5f70]]\\uff08[[\\u30aa\\u30fc\\u30c9\\u30ea\\u30fc (\\u304a\\u7b11\\u3044\\u30b3\\u30f3\\u30d3)|\\u30aa\\u30fc\\u30c9\\u30ea\\u30fc]])\\uff082015\\u5e7410\\u670823\\u65e5\\u653e\\u9001\\u5206\\uff09- \\u30b9\\u30da\\u30b7\\u30e3\\u30eb\\u30a6\\u30a4\\u30fc\\u30af\\u4f01\\u753b\\u3002\\u300e\\u30aa\\u30fc\\u30c9\\u30ea\\u30fc\\u6625\\u65e5\\u3055\\u3093\\u306b\\u30d5\\u30ea\\u30fc\\u30c8\\u30fc\\u30af\\u306e\\u6975\\u610f\\u3092\\u5b66\\u307c\\u3046\\uff01\\u300f\\u3068\\u79f0\\u3057\\u3066\\u671d\\u4e95\\u30fb\\u52a0\\u85e4\\u304c\\u30aa\\u30fc\\u30c9\\u30ea\\u30fc\\u6625\\u65e5\\u306b\\u30d5\\u30ea\\u30fc\\u30c8\\u30fc\\u30af\\u306b\\u95a2\\u3059\\u308b\\u60a9\\u307f\\u3092\\u76f8\\u8ac7\\u3059\\u308b\\u3068\\u3044\\u3046\\u3082\\u306e\\u3002\\n* [[aiko]]\\uff082015\\u5e7411\\u670820\\u65e5\\u653e\\u9001\\u5206\\uff09- \\u756a\\u7d44\\u30ea\\u30b9\\u30ca\\u30fc\\u3067\\u3082\\u3042\\u308baiko\\u672c\\u4eba\\u306e\\u5e0c\\u671b\\u306b\\u3088\\u308a\\u30b2\\u30b9\\u30c8\\u51fa\\u6f14\\u3002\\u300c\\u304b\\u3068\\u3061\\u3048\\u00d7\\u821e\\u306e\\u30e9\\u30b8\\u30aa\\uff01\\u30e9\\u30b8\\u30aa\\uff01\\u30e9\\u30b8\\u30aa\\uff01\\u300d\\u306b\\u304a\\u3051\\u308b\\u9ad8\\u6821\\u6642\\u4ee3\\u306e\\u52a0\\u85e4\\u306e\\u300caiko\\u306b\\u4f3c\\u3066\\u308b\\u3063\\u3066\\u8a00\\u308f\\u308c\\u305f\\u3053\\u3068\\u3042\\u308b\\u3088\\u300d\\u3068\\u3044\\u3046\\u767a\\u8a00\\u304c\\u5143\\u3068\\u306a\\u308a\\u3001\\u30aa\\u30fc\\u30d7\\u30cb\\u30f3\\u30b0\\u304b\\u3089\\u30b2\\u30b9\\u30c8\\u7d39\\u4ecb\\u306e\\u9014\\u4e2d\\u307e\\u3067\\u3001\\u671d\\u4e95\\u3068\\u3001\\u52a0\\u85e4\\u306b\\u306a\\u308a\\u3059\\u307e\\u3057\\u305faiko\\u304c\\u30c8\\u30fc\\u30af\\u30b3\\u30f3\\u30c8\\u3092\\u62ab\\u9732\\u3057\\u305f\\u3002\\u306a\\u304a\\u3001\\u524d\\u8ff0\\u306e\\u52a0\\u85e4\\u306e\\u767a\\u8a00\\u306b\\u95a2\\u3057\\u3066aiko\\u306f\\u300c\\u9762\\u767d\\u304b\\u3063\\u305f\\u300d\\u3068\\u30b3\\u30e1\\u30f3\\u30c8\\u3057\\u3001\\u7121\\u4e8b\\u548c\\u89e3\\u3057\\u3066\\u3044\\u308b\\u3002\\n* [[\\u6751\\u7530\\u6c99\\u8036\\u9999]]\\uff082015\\u5e7412\\u670818\\u65e5\\u653e\\u9001\\u5206\\uff09\\n* [[\\u82e5\\u6797\\u6b63\\u606d]]\\uff08[[\\u30aa\\u30fc\\u30c9\\u30ea\\u30fc (\\u304a\\u7b11\\u3044\\u30b3\\u30f3\\u30d3)|\\u30aa\\u30fc\\u30c9\\u30ea\\u30fc]])\\uff082016\\u5e742\\u670819\\u65e5\\u653e\\u9001\\u5206\\uff09\\n\\n== \\u30b9\\u30bf\\u30c3\\u30d5 ==\\n\\u524d\\u4efb\\u306e\\u30e9\\u30d6\\u30ec\\u30bf\\u30fc\\u30ba\\u540c\\u69d8\\u3001\\u6bce\\u56de\\u30a8\\u30f3\\u30c7\\u30a3\\u30f3\\u30b0\\u306b\\u304a\\u3044\\u3066\\u30b9\\u30bf\\u30c3\\u30d5\\u540d\\u3092\\u5168\\u54e1\\u8aad\\u307f\\u4e0a\\u3052\\u3066\\u3044\\u308b\\u3002\\n*\\u69cb\\u6210\\uff1a[[\\u5965\\u7530\\u6cf0]]\\u3001\\u95a2\\u53e3\\u52c7\\u6597\\n*\\u30df\\u30ad\\u30b5\\u30fc\\uff1a\\u5927\\u576a\\u79c0\\u55e3\\n*AD\\uff1a[[\\u51a8\\u5c71\\u96c4\\u4e00]]\\uff08\\uff5e2015\\u5e746\\u6708\\u3002\\u91d1\\u66dc\\u4e00\\u90e8\\u3078\\u7570\\u52d5\\uff09\\n:   \\u2192[[\\u821f\\u5d0e\\u5f69\\u4e43]]\\uff082015\\u5e747\\u6708\\uff5e\\uff09<ref>[https://twitter.com/jolf_sales/status/629742282674057216]</ref>\\n*NOTTV\\u30b9\\u30bf\\u30c3\\u30d5\\n**\\u30c7\\u30a3\\u30ec\\u30af\\u30bf\\u30fc\\uff1a\\u30d1\\u30f4\\u30a7\\u30eb\\n**AP\\uff1a\\u6cb3\\u8fba\\u5065\\u53f8\\n*\\u30d7\\u30ed\\u30c7\\u30e5\\u30fc\\u30b5\\u30fc\\uff1a[[\\u7bc0\\u4e38\\u96c5\\u77db]]\\uff082015\\u5e746\\u670823\\u65e5\\uff5e\\u7de8\\u6210\\u5c40\\u7de8\\u6210\\u90e8\\u9577\\u3078\\u7570\\u52d5\\uff09\\u2192\\u6a4b\\u5185\\u614e\\u4e00\\uff082015\\u5e747\\u6708\\uff5e\\uff09\\n*\\u30c7\\u30a3\\u30ec\\u30af\\u30bf\\u30fc\\uff1a[[\\u5b97\\u5ca1\\u82b3\\u6a39]]\\n\\n== \\u811a\\u6ce8 ==\\n<references />\\n\\n== \\u95a2\\u9023\\u9805\\u76ee ==\\n* [[\\u30aa\\u30fc\\u30eb\\u30ca\\u30a4\\u30c8\\u30cb\\u30c3\\u30dd\\u30f3]]\\n* [[\\u30aa\\u30fc\\u30eb\\u30ca\\u30a4\\u30c8\\u30cb\\u30c3\\u30dd\\u30f30(ZERO)]] \\n* [[2015\\u5e74\\u306e\\u30e9\\u30b8\\u30aa (\\u65e5\\u672c)]]\\n* [[\\u4e09\\u4ee3\\u76ee J Soul Brothers \\u5c71\\u4e0b\\u5065\\u4e8c\\u90ce\\u306e\\u30aa\\u30fc\\u30eb\\u30ca\\u30a4\\u30c8\\u30cb\\u30c3\\u30dd\\u30f3]] \\uff08\\u524d\\u67a0\\u756a\\u7d44\\uff09\\n\\n== \\u5916\\u90e8\\u30ea\\u30f3\\u30af ==\\n* [http://www.allnightnippon.com/program/zero/2016/03/post-569.html \\u671d\\u4e95\\u30ea\\u30e7\\u30a6\\u30fb\\u52a0\\u85e4\\u5343\\u6075\\u306e\\u30aa\\u30fc\\u30eb\\u30ca\\u30a4\\u30c8\\u30cb\\u30c3\\u30dd\\u30f30(ZERO) \\u516c\\u5f0f\\u30b5\\u30a4\\u30c8]\\n\\n{{\\u30aa\\u30fc\\u30eb\\u30ca\\u30a4\\u30c8\\u30cb\\u30c3\\u30dd\\u30f3|\\u30aa\\u30fc\\u30eb\\u30ca\\u30a4\\u30c8\\u30cb\\u30c3\\u30dd\\u30f30(ZERO)|[[\\u30e9\\u30d6\\u30ec\\u30bf\\u30fc\\u30ba\\u306e\\u30aa\\u30fc\\u30eb\\u30ca\\u30a4\\u30c8\\u30cb\\u30c3\\u30dd\\u30f30(ZERO)|\\u30e9\\u30d6\\u30ec\\u30bf\\u30fc\\u30ba]]|\\u671d\\u4e95\\u30ea\\u30e7\\u30a6\\u3068\\u52a0\\u85e4\\u5343\\u6075\\u306e\\u30aa\\u30fc\\u30eb\\u30ca\\u30a4\\u30c8\\u30cb\\u30c3\\u30dd\\u30f30(ZERO)|\\u91d1\\u66dc|27:00|29:00|[[\\u671d\\u4e95\\u30ea\\u30e7\\u30a6]]\\u30fb[[\\u52a0\\u85e4\\u5343\\u6075 (\\u6b4c\\u4eba)|\\u52a0\\u85e4\\u5343\\u6075]]|[[\\u4e09\\u56db\\u90ce\\u306e\\u30aa\\u30fc\\u30eb\\u30ca\\u30a4\\u30c8\\u30cb\\u30c3\\u30dd\\u30f30(ZERO)|\\u4e09\\u56db\\u90ce]]}}\\n\\n{{\\u30c7\\u30d5\\u30a9\\u30eb\\u30c8\\u30bd\\u30fc\\u30c8:\\u3042\\u3055\\u3044\\u308a\\u3088\\u3046\\u3068\\u304b\\u3068\\u3046\\u3061\\u3048\\u306e\\u304a\\u304a\\u308b\\u306a\\u3044\\u3068\\u306b\\u3064\\u307b\\u3093\\u305b\\u308d}}\\n[[Category:\\u30aa\\u30fc\\u30eb\\u30ca\\u30a4\\u30c8\\u30cb\\u30c3\\u30dd\\u30f30(ZERO)]]\\n[[Category:2015\\u5e74\\u306e\\u30e9\\u30b8\\u30aa\\u756a\\u7d44 (\\u65e5\\u672c)]]\"}]}}}}\n"
     ]
    }
   ],
   "source": [
    "import lxml.html \n",
    "import urllib3\n",
    "import json\n",
    "import requests\n",
    "\n",
    "urllib3.disable_warnings()\n",
    "http = urllib3.PoolManager()\n",
    "# r = http.request('GET', 'http://ja.wikipedia.org/w/api.php?format=xml&action=query&prop=revisions&titles=朝井リョウ%26加藤千恵のオールナイトニッポン0(ZERO)&rvprop=content')\n",
    "r = http.request('GET', 'http://ja.wikipedia.org/w/api.php?format=json&action=query&prop=revisions&titles=朝井リョウ%26加藤千恵のオールナイトニッポン0(ZERO)&rvprop=content')\n",
    "print r.data\n",
    "\n",
    "#print data\n",
    "# html = lxml.html.fromstring(data)\n",
    "# title = html.xpath('query/pages/page/@title')[0];\n",
    "# print(html)\n",
    "# print(r.data)\n",
    "# print(title)\n"
   ]
  },
  {
   "cell_type": "code",
   "execution_count": 129,
   "metadata": {},
   "outputs": [
    {
     "name": "stdout",
     "output_type": "stream",
     "text": [
      "[u'ns', u'pageid', u'revisions', u'title']\n",
      "朝井リョウ&加藤千恵のオールナイトニッポン0(ZERO)\n",
      "{{基礎情報 ラジオ番組\n",
      "| 番組名 = 朝井リョウと加藤千恵の<br />オールナイトニッポン0(ZERO) \n",
      "| 画像 = <!-- [[File:|200px]] ※「File:」の後に画像ファイルを貼る。画像サイズの変更は「200px」の数字を変える。 -->\n",
      "| 画像説明 = \n",
      "| 愛称 = \n",
      "| ジャンル = バラエティ番組\n",
      "| 放送方式 = 生放送（稀に録音） \n",
      "| 放送期間 = 2015年4月3日 - 2016年3月25日\n",
      "| 放送時間 = 金曜27:00 - 29:00\n",
      "| 放送回数 = \n",
      "| 放送局 = ニッポン放送ほか\n",
      "| 制作 = ニッポン放送\n",
      "| ネットワーク = NRN\n",
      "| パーソナリティ = [[朝井リョウ]]<br>[[加藤千恵 (歌人)|加藤千恵]]\n",
      "| 出演 = \n",
      "| テーマ曲 = OP:[[だいすき (岡村靖幸の曲)|だいすき]]／[[岡村靖幸]]<br>ED:[[赤黄色の金木犀]]／[[フジファブリック]]<br/>BITTER SWEET SAMBA\n",
      "| 企画 = \n",
      "| プロデューサー = \n",
      "| ディレクター = \n",
      "| スポンサー = \n",
      "| 公式サイト = http://www.allnightnippon.com/program/zero/fri/\n",
      "| 特記事項 = \n",
      "}}\n",
      "「'''朝井リョウと加藤千恵のオールナイトニッポン0(ZERO)'''」（あさいリョウとかとうちえのオールナイトニッポンゼロ）とは、[[ラブレターズのオールナイトニッポン0(ZERO)]]の後続番組として、2015年4月3日未明からスタートした番組。\n",
      "\n",
      "== 概要 ==\n",
      "2人とも、ラジオパーソナリティを務めるのは、この番組が初めてとなる<ref name=\"cinematoday_20150308\">{{Cite news |title= 「桐島」朝井リョウ、ANN0でラジオパーソナリティーデビュー|newspaper= シネマトゥディ|date= 2015-03-08|author= |url= http://www.cinematoday.jp/page/N0071328|accessdate=2015-03-08}}</ref><ref>なお、加藤は第1回放送で「実は[[FMりべーる]]（加藤の地元である旭川市のコミュニティFM）でやったことあるんだ。」とラジオパーソナリティ経験があることを告白した。これが後にレギュラーコーナーとなる「かとちえ×舞のラジオ！ラジオ！ラジオ！」へと繋がることになる。</ref>。特に、朝井はあらゆるラジオ番組に、リスナーとしてたびたび投稿している<ref>{{Cite news |title= 朝井リョウ氏、初ラジオに「さまざまな番組のエッセンスを」|newspaper= サンケイスポーツ|date= 2015-03-08|author= |url= http://www.sanspo.com/geino/news/20150308/oth15030805020010-n1.html|accessdate=2015-03-08}}</ref>。\n",
      "\n",
      "その朝井は、「許してくださいという気持ちです。面白い話ができるわけでも名前に引きがあるわけでもなく、ただ『ラジオを聴くのが好き』という人間にこんな枠を預けるなんてニッポン放送はどうしたんでしょうか」とした上で「自分が好きだったさまざまな番組のエッセンスを詰め込み、それをオリジナリティーと言い張りたいと思います。よろしくお願い致します！」と抱負を述べている<ref name=\"cinematoday_20150308\"/>。\n",
      "\n",
      "加藤はメールメッセージを「'''カード'''」と称し、[[電子メール]]アドレスも「'''カード'''アドレス」と読み替えている（加藤曰く『[[辻仁成のオールナイトニッポン]]』においてハガキをカードと呼んでいたことに由来する、という旨の説明を行いつつメッセージ募集を行っていた。）<ref>途中から「©辻仁成（無許可）」という短縮形に変更して進行。「カード」は「[[はがき|郵便はがき]]」に由来するもので、辻の放送当時には多くの番組でこのような募集が行われていた。現在でも「[[山下達郎のサンデー・ソングブック]]」などごく一部の番組やDJが投稿はがきを「メッセージカード」「リクエストカード」として紹介している。</ref>それを朝井は気に入らないらしく、ちょくちょく「メール!」と突っ込んでいた。また朝井の「メール」に対し加藤が「カードね」と突っ込む場面も多々あった。しかし、加藤はつられたり勢いで「メール」ということがあり、逆に朝井も勢いで「カード」と言ってしまうことがあった。結果、番組内では辻仁成＝カードの人という構図が出来上がっているという。\n",
      "\n",
      "== 放送時間 ==\n",
      "* 金曜　27:00 - 29:00\n",
      "[[西日本放送]]と[[南海放送]]<ref>2015年9月までは29:00までのフルネットだった。</ref>は28:00までの1時間放送となっている。「[[オールナイトニッポン0(ZERO)#ネット局]]」も参照。\n",
      "\n",
      "== テーマ曲 ==\n",
      "* オープニング：[[岡村靖幸]]「[[だいすき (岡村靖幸の曲)|だいすき]]」\n",
      "* エンディング：[[フジファブリック]]「[[赤黄色の金木犀]]」→[[ハーブ・アルパート]]とティファナ・ブラス「[[BITTERSWEET SAMBA]]」\n",
      "「BITTERSWEET SAMBA」以外は2人が相談に相談を重ねた上で決定した。\n",
      "\n",
      "== コーナー ==\n",
      "作家が文章を書き上げたときの言葉を用いて、コーナーの終了時は「'''校了'''」と発せられて終わった。\n",
      "* 泣きながら一気に読みました\n",
      ":本の帯コメントを誰がどんな風に書けば売れるのか、を募集するコーナー。ほとんどメールが届かず1回紹介したのみで校了した。\n",
      "\n",
      "* 愛され花嫁\n",
      ":よく考えると矛盾しているかのようなフレーズを募集するコーナー。2015年5月22日に校了した。\n",
      "\n",
      "* 前のタクシー追ってください\n",
      ":人生で一度は言ってみたい台詞を募集するコーナー。\n",
      ":2015年5月より、台詞を紹介後、締めに「タクシー!」とどなりをいれることが定例となっていた。2015年9月4日に校了した。\n",
      "\n",
      "* 国境の長いトンネルを抜けると...... \n",
      ":名作であることを予感させる「小説の一行目」のみを募集するコーナー。\n",
      ":2015年6月の放送分より、マイナビウーマンの[[西川産業|東京西川]]のページ「[http://woman.mynavi.jp/ad/nishikawa05/vol01.html 連載小説 6人の眠り姫]」との連動企画として、このコーナーで採用された中から毎月一つを加藤が選び、実際にそれを書き出しに使った小説を書くことが発表された。ラジオ内でのコーナーは2016年3月11日に校了したが、加藤がMCを担当している「[[ホウドウキョク24|真夜中のニャーゴ]]」で、2016年4月以降も月に1回、朝井の番組出演日にこのコーナーを継続することが発表された。\n",
      "\n",
      "* かとちえ×舞のラジオ！ラジオ！ラジオ！⇒かとちえ×舞のラジオ！ラジオ！ラジオ！2015⇒かとちえ×舞のラジオ！ラジオ！ラジオ！2016\n",
      ":加藤が高校時代に同級生の「ひらまい」と地元[[旭川市]]の[[コミュニティFM]]、[[FMりべーる]]で担当していたレギュラー番組がどんな内容だったのかをリスナーに教えてもらうコーナー。加藤には内密で始まった上、本人も全く内容は知らない。ちなみに番組名は[[フリッパーズ・ギター]]の「カメラ! カメラ! カメラ!」から引用しているとのこと。\n",
      ":2015年6月12日はスペシャルウィーク開催に合わせ、様々なルートを使って発掘したレギュラー番組放送当時の実際の音源と、FMりべーるのステーションジングルを流す特別企画「みんな集まれ旭川っしょいスペシャル！！」を行った。\n",
      ":その翌週にいったん校了宣言した上でリニューアルを発表し、当時の番組内容を教えてもらうコーナーから、2015年及び2016年の現在も番組が続いているという前提で感想を送ってもらうというコーナーに変更された。リニューアル後は番組ジングルではなくFMりべーるのステーションジングルを流すことを合図にしている。2016年3月18日に校了した。\n",
      "\n",
      "* なぜ、この人と話をすると楽になるのか\n",
      ":ニッポン放送の[[吉田尚記]]アナウンサーの著書「なぜ、この人と話をすると楽になるのか」のような、売れそうな新書のタイトルを募集するコーナー。2016年3月11日に校了した。\n",
      "\n",
      "*何者キャスト予想\n",
      ":朝井の[[直木賞]]受賞作である「[[何者 (朝井リョウ)|何者]]」が実写映画化されることになり、2016年秋の公開が発表されたのに合わせ、主要キャスト五人の予想を募集していた。予想は一人一通のみ、締切はキャストの公式発表まで。\n",
      "\n",
      "* 曲対決のコーナー\n",
      ":週替わりのテーマで2人が曲をセレクトし、「曲名やアーティストには触れないように」プレゼン。スタッフの挙手が多かった方の曲がかかる。『[[バナナマンのバナナムーンGOLD]]』にも似たようなコーナーがあるが、毎回、「バナナムーンとは関係ありません」と断りを入れている<ref>『バナナムーン』はパーソナリティが選曲する点が同じだが'''ディレクターの独断'''でかかる点が異なる。</ref>。2016年3月25日に校了した。\n",
      "\n",
      "このほか、3時台の最後は朝井がセレクトした「[[つんく♂]]」プロデュースの曲がかかり、また[[CMフィラー]]で流れる12曲はADが週替わりのテーマに沿って選曲している。\n",
      "\n",
      "なお、3時台から4時台の前半は主に2人のフリートークで構成されるので概ね4:20頃から随時コーナーを行うが、フリートークが伸びすぎて結果的にすべてのコーナーが飛んだこともある。\n",
      "\n",
      "== ゲスト及びその他の出演者 ==\n",
      "* [[久保ミツロウ]]、[[能町みね子]]（2015年4月3日放送分）- 火曜ZERO第一期パーソナリティ、のちに火曜一部、木曜GOLDを担当した。朝井・加藤ともちょくちょく会っているようで、第1回放送ということもあり最初は見守るつもりで見学に来ていたが、結局4時台から急遽スタジオに乱入。\n",
      "* [[松居大悟]]（2015年9月11日放送分）\n",
      "* [[春日俊彰]]（[[オードリー (お笑いコンビ)|オードリー]])（2015年10月23日放送分）- スペシャルウイーク企画。『オードリー春日さんにフリートークの極意を学ぼう！』と称して朝井・加藤がオードリー春日にフリートークに関する悩みを相談するというもの。\n",
      "* [[aiko]]（2015年11月20日放送分）- 番組リスナーでもあるaiko本人の希望によりゲスト出演。「かとちえ×舞のラジオ！ラジオ！ラジオ！」における高校時代の加藤の「aikoに似てるって言われたことあるよ」という発言が元となり、オープニングからゲスト紹介の途中まで、朝井と、加藤になりすましたaikoがトークコントを披露した。なお、前述の加藤の発言に関してaikoは「面白かった」とコメントし、無事和解している。\n",
      "* [[村田沙耶香]]（2015年12月18日放送分）\n",
      "* [[若林正恭]]（[[オードリー (お笑いコンビ)|オードリー]])（2016年2月19日放送分）\n",
      "\n",
      "== スタッフ ==\n",
      "前任のラブレターズ同様、毎回エンディングにおいてスタッフ名を全員読み上げている。\n",
      "*構成：[[奥田泰]]、関口勇斗\n",
      "*ミキサー：大坪秀嗣\n",
      "*AD：[[冨山雄一]]（～2015年6月。金曜一部へ異動）\n",
      ":   →[[舟崎彩乃]]（2015年7月～）<ref>[https://twitter.com/jolf_sales/status/629742282674057216]</ref>\n",
      "*NOTTVスタッフ\n",
      "**ディレクター：パヴェル\n",
      "**AP：河辺健司\n",
      "*プロデューサー：[[節丸雅矛]]（2015年6月23日～編成局編成部長へ異動）→橋内慎一（2015年7月～）\n",
      "*ディレクター：[[宗岡芳樹]]\n",
      "\n",
      "== 脚注 ==\n",
      "<references />\n",
      "\n",
      "== 関連項目 ==\n",
      "* [[オールナイトニッポン]]\n",
      "* [[オールナイトニッポン0(ZERO)]] \n",
      "* [[2015年のラジオ (日本)]]\n",
      "* [[三代目 J Soul Brothers 山下健二郎のオールナイトニッポン]] （前枠番組）\n",
      "\n",
      "== 外部リンク ==\n",
      "* [http://www.allnightnippon.com/program/zero/2016/03/post-569.html 朝井リョウ・加藤千恵のオールナイトニッポン0(ZERO) 公式サイト]\n",
      "\n",
      "{{オールナイトニッポン|オールナイトニッポン0(ZERO)|[[ラブレターズのオールナイトニッポン0(ZERO)|ラブレターズ]]|朝井リョウと加藤千恵のオールナイトニッポン0(ZERO)|金曜|27:00|29:00|[[朝井リョウ]]・[[加藤千恵 (歌人)|加藤千恵]]|[[三四郎のオールナイトニッポン0(ZERO)|三四郎]]}}\n",
      "\n",
      "{{デフォルトソート:あさいりようとかとうちえのおおるないとにつほんせろ}}\n",
      "[[Category:オールナイトニッポン0(ZERO)]]\n",
      "[[Category:2015年のラジオ番組 (日本)]]\n"
     ]
    }
   ],
   "source": [
    "import json\n",
    "import requests\n",
    "url =  'http://ja.wikipedia.org/w/api.php?format=json&action=query&prop=revisions&titles=朝井リョウ%26加藤千恵のオールナイトニッポン0(ZERO)&rvprop=content'\n",
    "# url =  'http://ja.wikipedia.org/w/api.php?format=json&action=query&prop=revisions&titles=ウレロ☆シリーズ&rvprop=content'\n",
    "# url =  'http://en.wikipedia.org/w/api.php?format=json&action=query&prop=revisions&titles==Emma_Watson&rvprop=content'\n",
    "# url =' http://ja.wikipedia.org/w/api.php?format=json&action=query&prop=revisions&titles=Main%20Page&rvprop=content'\n",
    "# url = 'https://en.wikipedia.org/w/api.php?action=query&titles=Main%20Page&prop=revisions&rvprop=content&format=json&rvprop=content'\n",
    "# r = requests.get(url)\n",
    "# data = r.json()\n",
    "# print data # print json.dumps(data, indent=4)\n",
    "resp = requests.get(url).json()\n",
    "# print resp.keys(), resp.values()\n",
    "page_one = next(iter(resp['query']['pages'].values()))\n",
    "#print page_one\n",
    "# print len(resp['query']['pages'])\n",
    "# print page_one.keys()\n",
    "# print page_one['title']\n",
    "revisions = page_one.get('revisions', [])\n",
    "#print revisions\n",
    "# html = next(iter(revisions[0].values()))\n",
    "\n",
    "print revisions[0]['*']\n",
    "# print revisions[0][u'contentmodel']\n",
    "# print revisions[0][u'contentformat']\n",
    "\n",
    "# now parse the html \n",
    "\n",
    "\n",
    "# r = http.request('GET', url)\n",
    "# print r.data\n",
    "# html = lxml.html.fromstring(r.data.decode('utf-8'))\n",
    "# title = html.xpath('query/pages/page/@title')[0];\n",
    "\n"
   ]
  },
  {
   "cell_type": "code",
   "execution_count": null,
   "metadata": {
    "collapsed": true
   },
   "outputs": [],
   "source": []
  },
  {
   "cell_type": "code",
   "execution_count": 268,
   "metadata": {},
   "outputs": [
    {
     "name": "stdout",
     "output_type": "stream",
     "text": [
      "<bound method DataFrame.describe of             0                                                  1\n",
      "0   ウレロ☆未確認少女                                                NaN\n",
      "1        ジャンル                                       テレビドラマ、シットコム\n",
      "2        放送時間                         土曜日 0:53 - 1:23（金曜深夜）（30分）\n",
      "3        放送期間                           2011年10月8日 - 12月24日（12回）\n",
      "4         放送国                                                 日本\n",
      "5         制作局                      テレビ東京（制作）ウレロ☆未確認少女製作委員会（製作著作）\n",
      "6          演出                                              佐久間宣行\n",
      "7          脚本                        オークラ土屋亮一（シベリア少女鉄道）バカリズム飯塚悟志\n",
      "8     プロデューサー                                              佐久間宣行\n",
      "9         出演者                劇団ひとりバカリズム東京03（豊本明長・飯塚悟志・角田晃広）早見あかり\n",
      "10     オープニング                                         「ウレロ!のテーマ」\n",
      "11     エンディング  「ウレロ!のテーマ」（第1話）「ALONE」（第2話 - 第6話）「We are UFI!!...\n",
      "12      外部リンク                                              公式サイト\n",
      "13  テンプレートを表示                                                NaN>\n",
      "<bound method DataFrame.describe of             0                                                  1\n",
      "0   ウレロ☆未確認少女                                                NaN\n",
      "1        ジャンル                                       テレビドラマ、シットコム\n",
      "2        放送時間                         土曜日 0:53 - 1:23（金曜深夜）（30分）\n",
      "3        放送期間                           2011年10月8日 - 12月24日（12回）\n",
      "4         放送国                                                 日本\n",
      "5         制作局                      テレビ東京（制作）ウレロ☆未確認少女製作委員会（製作著作）\n",
      "6          演出                                              佐久間宣行\n",
      "7          脚本                        オークラ土屋亮一（シベリア少女鉄道）バカリズム飯塚悟志\n",
      "8     プロデューサー                                              佐久間宣行\n",
      "9         出演者                劇団ひとりバカリズム東京03（豊本明長・飯塚悟志・角田晃広）早見あかり\n",
      "10     オープニング                                         「ウレロ!のテーマ」\n",
      "11     エンディング  「ウレロ!のテーマ」（第1話）「ALONE」（第2話 - 第6話）「We are UFI!!...\n",
      "12      外部リンク                                              公式サイト\n",
      "13  テンプレートを表示                                                NaN>\n",
      "<bound method DataFrame.describe of             0                                                  1\n",
      "0   ウレロ☆未確認少女                                                NaN\n",
      "1        ジャンル                                       テレビドラマ、シットコム\n",
      "2        放送時間                         土曜日 0:53 - 1:23（金曜深夜）（30分）\n",
      "3        放送期間                           2011年10月8日 - 12月24日（12回）\n",
      "4         放送国                                                 日本\n",
      "5         制作局                      テレビ東京（制作）ウレロ☆未確認少女製作委員会（製作著作）\n",
      "6          演出                                              佐久間宣行\n",
      "7          脚本                        オークラ土屋亮一（シベリア少女鉄道）バカリズム飯塚悟志\n",
      "8     プロデューサー                                              佐久間宣行\n",
      "9         出演者                劇団ひとりバカリズム東京03（豊本明長・飯塚悟志・角田晃広）早見あかり\n",
      "10     オープニング                                         「ウレロ!のテーマ」\n",
      "11     エンディング  「ウレロ!のテーマ」（第1話）「ALONE」（第2話 - 第6話）「We are UFI!!...\n",
      "12      外部リンク                                              公式サイト\n",
      "13  テンプレートを表示                                                NaN>\n",
      "<bound method DataFrame.describe of             0                                                  1\n",
      "0   ウレロ☆未確認少女                                                NaN\n",
      "1        ジャンル                                       テレビドラマ、シットコム\n",
      "2        放送時間                         土曜日 0:53 - 1:23（金曜深夜）（30分）\n",
      "3        放送期間                           2011年10月8日 - 12月24日（12回）\n",
      "4         放送国                                                 日本\n",
      "5         制作局                      テレビ東京（制作）ウレロ☆未確認少女製作委員会（製作著作）\n",
      "6          演出                                              佐久間宣行\n",
      "7          脚本                        オークラ土屋亮一（シベリア少女鉄道）バカリズム飯塚悟志\n",
      "8     プロデューサー                                              佐久間宣行\n",
      "9         出演者                劇団ひとりバカリズム東京03（豊本明長・飯塚悟志・角田晃広）早見あかり\n",
      "10     オープニング                                         「ウレロ!のテーマ」\n",
      "11     エンディング  「ウレロ!のテーマ」（第1話）「ALONE」（第2話 - 第6話）「We are UFI!!...\n",
      "12      外部リンク                                              公式サイト\n",
      "13  テンプレートを表示                                                NaN>\n"
     ]
    }
   ],
   "source": [
    "# the way to get infobox from wikipedia with pandas\n",
    "import pandas\n",
    "# fetched_dataframes = pandas.io.html.read_html('https://ja.wikipedia.org/wiki/%E6%9C%9D%E4%BA%95%E3%83%AA%E3%83%A7%E3%82%A6%26%E5%8A%A0%E8%97%A4%E5%8D%83%E6%81%B5%E3%81%AE%E3%82%AA%E3%83%BC%E3%83%AB%E3%83%8A%E3%82%A4%E3%83%88%E3%83%8B%E3%83%83%E3%83%9D%E3%83%B30(ZERO)')\n",
    "# url = 'https://ja.wikipedia.org/wiki/朝井リョウ%26加藤千恵のオールナイトニッポン0(ZERO)'\n",
    "url ='https://ja.wikipedia.org/wiki/%E3%82%A6%E3%83%AC%E3%83%AD%E2%98%86%E3%82%B7%E3%83%AA%E3%83%BC%E3%82%BA'\n",
    "infobox = pandas.read_html(url, match=u'ジャンル')\n",
    "for i in infobox:\n",
    "    print infobox[0].describe"
   ]
  },
  {
   "cell_type": "code",
   "execution_count": null,
   "metadata": {
    "collapsed": true
   },
   "outputs": [],
   "source": []
  },
  {
   "cell_type": "code",
   "execution_count": 55,
   "metadata": {},
   "outputs": [
    {
     "name": "stdout",
     "output_type": "stream",
     "text": [
      "カテゴリー\n",
      "  コメディドラマ\n",
      "  シチュエーション・コメディ\n",
      "  テレビ東京土曜未明の深夜ドラマ\n",
      "  バカリズム\n",
      "  継続中の作品\n",
      "  芸能界を舞台としたテレビドラマ\n"
     ]
    }
   ],
   "source": [
    "#usage of wikipedia package\n",
    "import wikipedia\n",
    "wikipedia.set_lang('ja')\n",
    "\n",
    "# print wikipedia.summary('朝井リョウと加藤千恵のオールナイトニッポン0(ZERO)')\n",
    "# p = wikipedia.page('朝井リョウと加藤千恵のオールナイトニッポン0(ZERO)')\n",
    "p = wikipedia.page('ウレロ☆シリーズ')\n",
    "\n",
    "# print p.content\n",
    "# print p.categories\n",
    "# print dir(p)\n",
    "print 'カテゴリー'\n",
    "for v in p.categories:\n",
    "    print ' ', v\n",
    "\n",
    "#print p.content\n",
    "#print p.html()"
   ]
  },
  {
   "cell_type": "code",
   "execution_count": 282,
   "metadata": {},
   "outputs": [
    {
     "name": "stdout",
     "output_type": "stream",
     "text": [
      "カメラ : 田中圭介 菊地裕介 風間誠 \n",
      "演出補 : 美濃部遥香 岡千尋 高井翔太朗 岡田直美 山戸良祐 \n",
      "ホームページ : 齋藤奈津美 江澤康太 濱野洋平 中島康雅 鶴岡洋志 \n",
      "デザイン : 金子大悟 小野清菜 \n",
      "アクション指導 :  A・T・C事務所 \n",
      "制作協力 : シオプロ \n",
      "EED : 落合勇 島田一浩 \n",
      "コンテンツビジネスプロデューサー : 大和健太郎 滝山直史 藤野慎也 \n",
      "番宣 : 魚田英孝 陰山ひとみ 福井静 長江璃奈 \n",
      "美術デザイン : 小野清菜 \n",
      "製作著作 : ウレロ☆未確認少女製作委員会 ウレロ☆無限大少女製作委員会 ウレロ☆未体験少女製作委員会 ウレロ☆未完成少女製作委員会 \n",
      "アートP : 薬王寺哲朗 \n",
      "デスク : 渡辺京子 渡邉京子 \n",
      "映像 : 入江俊之 三浦宏一 北村宏一 \n",
      "衣装 : 藤原ひとみ 松林圭江 吉永勝 \n",
      "メイク : 小谷香織 \n",
      "劇中アニメキャラクターデザイン : 渡邊義弘 \n",
      "プロデューサー : 塩原幸雄 \n",
      "美術進行 : 小越敏彦 仙田拓也 \n",
      "大道具 : 土田恵佑 高間将太 \n",
      "CG : 山口剛史 \n",
      "電飾 : 北原智之 \n",
      "小道具 : 舘直樹 \n",
      "モニター : 伊阪道在 \n",
      "技術 : 野瀬一成 \n",
      "OPムービー : 上田大樹 \n",
      "照明 : 山崎康紀 \n",
      "トータルデザイン : ニイルセン \n",
      "脚本 : 土屋亮一 バカリズム 飯塚悟志 オークラ バカリズム  \n",
      "制作進行 : 磯崎千絵 \n",
      "MA : 長瀬貴広 \n",
      "協力 : テレビ東京アート SWISH JAPAN 講談社 テクノマックス \n",
      "AP : 美濃部遥香 小室良太 祖父江里奈 中野加奈子 磯崎千絵 \n",
      "ディレクター : 本間和美 高井翔太朗 塩谷泰孝 鈴木拓也 双津大地郎 \n",
      "音声 : 臼本泰一 \n",
      "キャスティングプロデューサー : 伊東雅子 \n",
      "音響効果 : 小田切暁 \n",
      "制作 : テレビ東京 \n",
      "演出・プロデューサー : 佐久間宣行 \n"
     ]
    }
   ],
   "source": [
    "import re\n",
    "from html.parser import HTMLParser\n",
    "\n",
    "class MyHTMLParser(HTMLParser, object):\n",
    "    def __init__(self):\n",
    "        super(MyHTMLParser, self).__init__()\n",
    "        self._find_headline = False\n",
    "        self._find_staff = False\n",
    "#         self._uli_count= 0\n",
    "        self._li_count= 0\n",
    "        self._dd_count= 0\n",
    "        self._bracket_count = 0\n",
    "        self._find_ref = False\n",
    "#         self._find_table = False\n",
    "#         self._find_colon = False\n",
    "        \n",
    "        self._index = ''\n",
    "        self._data_temp = ''\n",
    "        self._value = []\n",
    "        self._value_set = set()\n",
    "        self._staff_dict = dict()\n",
    "        \n",
    "    def handle_starttag(self, tag, attrs):\n",
    "        if self._find_staff:\n",
    "#             print(\"Start tag:\", tag)\n",
    "            if tag == u'a':\n",
    "                self._link = True\n",
    "            if tag == u'li':\n",
    "                self._li_count +=1\n",
    "                self._data_temp = ''\n",
    "            if tag == u'dd':\n",
    "                self._dd_count += 1\n",
    "#             if tag ==\n",
    "       \n",
    "        for attr in attrs:\n",
    "#             if self._find_staff:\n",
    "#                 print(\"     attr:\", attr)\n",
    "            if 'mw-headline' in attr:\n",
    "                self._find_headline = True\n",
    "                self._find_staff = False\n",
    "            if 'reference' in attr:\n",
    "                self._find_ref = True\n",
    "\n",
    "            \n",
    "    def handle_endtag(self, tag):\n",
    "        if self._find_staff: \n",
    "#             print(\"End tag  :\", tag)\n",
    "#             if tag == u'uli':\n",
    "#                 self._uli_count -= 1\n",
    "            if tag == u'dd':\n",
    "                self._dd_count -= 1\n",
    "                \n",
    "                datas = re.split(u'[：-]', self._data_temp)\n",
    "                self._index = datas[0]\n",
    "                self._value.extend(re.split(u'[,、・/／→]', datas[1])) #separate multiple staffs\n",
    "                for i, v in enumerate(self._value): #remove () and ※\n",
    "                    self._value[i]  = re.split(u'[（(※]', v)[0]\n",
    "                self._staff_dict[self._index] = self._value                \n",
    "\n",
    "                self._value = []\n",
    "\n",
    "            if tag == u'li':\n",
    "                self._li_count -= 1\n",
    "#                 self._find_colon = False\n",
    "                datas = re.split(u'[：-]', self._data_temp)\n",
    "                self._index = datas[0]\n",
    "\n",
    "                datae = datas[1].encode('utf-8')\n",
    "                datae = re.sub('(（|\\(|\\（).+?(）|\\）|\\))','', datae) #remove brackets\n",
    "\n",
    "                #exception\n",
    "                exception = ['A・T・C事務所']\n",
    "                for e in exception:\n",
    "                    if e in datae:\n",
    "                        self._value.append(e)\n",
    "                        datae = datae.replace(e,'')\n",
    "                \n",
    "                self._value.extend(re.split(u'[,、・/／→]', datae.decode('utf-8'))) #separate multiple staffs                \n",
    "                for i, v in enumerate(self._value): #remove () and ※\n",
    "                    self._value[i]  = re.split(u'[※]', v)[0]\n",
    "#                     print '    ',  self._value[i]\n",
    "               \n",
    "                if self._index in self._staff_dict:\n",
    "                    self._staff_dict[self._index].extend(self._value)\n",
    "                else:\n",
    "                     self._staff_dict[self._index] = self._value\n",
    "                \n",
    "                self._value = []\n",
    "\n",
    "        if self._find_headline and tag==u'span':\n",
    "            self._find_headline = False\n",
    "\n",
    "    def handle_data(self, data):\n",
    "#         if self._find_staff: \n",
    "#             print data\n",
    "#             print self._li_count, self._dd_count\n",
    "        if self._find_staff and self._li_count>0 or self._dd_count>0:\n",
    "                 if not self._find_ref :\n",
    "                        self._data_temp += data\n",
    "#                 print self._data_temp\n",
    "#             if not self._find_colon:\n",
    "#                 self._find_colon = True\n",
    "#                 datas = re.split(u'[：-]', data)\n",
    "#                 self._index = datas[0]\n",
    "#                 self._value.extend(re.split(u'[,・/,／]', datas[1]))\n",
    "#             else:\n",
    "#                 self._value.extend(re.split(u'[,・/,／]', data))\n",
    "        if self._find_ref :\n",
    "            self._find_ref = False\n",
    "            \n",
    "        if self._find_headline:\n",
    "            if data == u'スタッフ':\n",
    "                self._find_staff = True\n",
    "                self._li_count = 0\n",
    "\n",
    "\n",
    "parser = MyHTMLParser()\n",
    "parser.feed(p.html())\n",
    "\n",
    "for k, v in parser._staff_dict.items():\n",
    "    print k, ':', \n",
    "    for staff in set(v):\n",
    "        print staff,\n",
    "    print ''"
   ]
  },
  {
   "cell_type": "code",
   "execution_count": null,
   "metadata": {
    "collapsed": true
   },
   "outputs": [],
   "source": []
  },
  {
   "cell_type": "code",
   "execution_count": 295,
   "metadata": {},
   "outputs": [
    {
     "data": {
      "text/html": [
       "<div>\n",
       "<style>\n",
       "    .dataframe thead tr:only-child th {\n",
       "        text-align: right;\n",
       "    }\n",
       "\n",
       "    .dataframe thead th {\n",
       "        text-align: left;\n",
       "    }\n",
       "\n",
       "    .dataframe tbody tr th {\n",
       "        vertical-align: top;\n",
       "    }\n",
       "</style>\n",
       "<table border=\"1\" class=\"dataframe\">\n",
       "  <thead>\n",
       "    <tr style=\"text-align: right;\">\n",
       "      <th></th>\n",
       "      <th>1</th>\n",
       "    </tr>\n",
       "    <tr>\n",
       "      <th>0</th>\n",
       "      <th></th>\n",
       "    </tr>\n",
       "  </thead>\n",
       "  <tbody>\n",
       "    <tr>\n",
       "      <th>ウレロ☆未確認少女</th>\n",
       "      <td>NaN</td>\n",
       "    </tr>\n",
       "    <tr>\n",
       "      <th>ジャンル</th>\n",
       "      <td>テレビドラマ、シットコム</td>\n",
       "    </tr>\n",
       "    <tr>\n",
       "      <th>放送時間</th>\n",
       "      <td>土曜日 0:53 - 1:23（金曜深夜）（30分）</td>\n",
       "    </tr>\n",
       "    <tr>\n",
       "      <th>放送期間</th>\n",
       "      <td>2011年10月8日 - 12月24日（12回）</td>\n",
       "    </tr>\n",
       "    <tr>\n",
       "      <th>放送国</th>\n",
       "      <td>日本</td>\n",
       "    </tr>\n",
       "    <tr>\n",
       "      <th>制作局</th>\n",
       "      <td>テレビ東京（制作）ウレロ☆未確認少女製作委員会（製作著作）</td>\n",
       "    </tr>\n",
       "    <tr>\n",
       "      <th>演出</th>\n",
       "      <td>佐久間宣行</td>\n",
       "    </tr>\n",
       "    <tr>\n",
       "      <th>脚本</th>\n",
       "      <td>オークラ土屋亮一（シベリア少女鉄道）バカリズム飯塚悟志</td>\n",
       "    </tr>\n",
       "    <tr>\n",
       "      <th>プロデューサー</th>\n",
       "      <td>佐久間宣行</td>\n",
       "    </tr>\n",
       "    <tr>\n",
       "      <th>出演者</th>\n",
       "      <td>劇団ひとりバカリズム東京03（豊本明長・飯塚悟志・角田晃広）早見あかり</td>\n",
       "    </tr>\n",
       "    <tr>\n",
       "      <th>オープニング</th>\n",
       "      <td>「ウレロ!のテーマ」</td>\n",
       "    </tr>\n",
       "    <tr>\n",
       "      <th>エンディング</th>\n",
       "      <td>「ウレロ!のテーマ」（第1話）「ALONE」（第2話 - 第6話）「We are UFI!!...</td>\n",
       "    </tr>\n",
       "    <tr>\n",
       "      <th>外部リンク</th>\n",
       "      <td>公式サイト</td>\n",
       "    </tr>\n",
       "    <tr>\n",
       "      <th>test</th>\n",
       "      <td>[ddd, tst, ttt]</td>\n",
       "    </tr>\n",
       "  </tbody>\n",
       "</table>\n",
       "</div>"
      ],
      "text/plain": [
       "                                                           1\n",
       "0                                                           \n",
       "ウレロ☆未確認少女                                                NaN\n",
       "ジャンル                                            テレビドラマ、シットコム\n",
       "放送時間                              土曜日 0:53 - 1:23（金曜深夜）（30分）\n",
       "放送期間                                2011年10月8日 - 12月24日（12回）\n",
       "放送国                                                       日本\n",
       "制作局                            テレビ東京（制作）ウレロ☆未確認少女製作委員会（製作著作）\n",
       "演出                                                     佐久間宣行\n",
       "脚本                               オークラ土屋亮一（シベリア少女鉄道）バカリズム飯塚悟志\n",
       "プロデューサー                                                佐久間宣行\n",
       "出演者                      劇団ひとりバカリズム東京03（豊本明長・飯塚悟志・角田晃広）早見あかり\n",
       "オープニング                                            「ウレロ!のテーマ」\n",
       "エンディング     「ウレロ!のテーマ」（第1話）「ALONE」（第2話 - 第6話）「We are UFI!!...\n",
       "外部リンク                                                  公式サイト\n",
       "test                                         [ddd, tst, ttt]"
      ]
     },
     "execution_count": 295,
     "metadata": {},
     "output_type": "execute_result"
    }
   ],
   "source": [
    "infobox = pandas.read_html(p.html(), match=u'ジャンル')\n",
    "# for i in infobox:\n",
    "#     print infobox[0].describe\n",
    "    \n",
    "ib = infobox[0]\n",
    "ib = ib.set_index(ib[0])\n",
    "ib = ib.drop(u'テンプレートを表示')\n",
    "ib = ib.drop(0, axis=1)\n",
    "# print ib.at[u'出演者',1]\n",
    "\n",
    "ib\n",
    "\n",
    "# print ib\n",
    "# ib = ib.drop('朝井リョウと加藤千恵のオールナイトニッポン0(ZERO)  ', axis=1)\n",
    "# ib.drop(u'公式サイト', axis=0)\n",
    "# print ib\n",
    "ib.loc['test'] = [ ['ddd', 'tst', 'ttt']]\n",
    "ib\n",
    "# print ib[0]\n",
    "# ib[ib[0]==u'公式サイト']\n",
    "# print ib.drop(ib[ib[0]==u'テンプレートを表示'])\n",
    "# ib.query('0=='公式サイト')\n",
    "# ib.drop(u'公式サイト', index_col=0)"
   ]
  },
  {
   "cell_type": "code",
   "execution_count": 88,
   "metadata": {
    "collapsed": true
   },
   "outputs": [],
   "source": [
    "import wikipedia\n",
    "p = wikipedia.page('朝井リョウと加藤千恵のオールナイトニッポン0(ZERO)')\n",
    "# p = wikipedia.page('ウレロ☆シリーズ')"
   ]
  },
  {
   "cell_type": "code",
   "execution_count": 653,
   "metadata": {},
   "outputs": [
    {
     "name": "stdout",
     "output_type": "stream",
     "text": [
      "朝井リョウと加藤千恵の\n",
      "オールナイトニッポン0(ZERO) :  ,  \n",
      "公式サイト : 公式サイト ,  \n",
      "テーマ曲 : ED:赤黄色の金木犀／フジファブリック ,  BITTER SWEET SAMBA ,  OP:だいすき／岡村靖幸 ,  \n",
      "放送時間 : 金曜27:00 - 29:00 ,  \n",
      "放送局 : ニッポン放送ほか ,  \n",
      "放送方式 : 生放送 ,  \n",
      "ネットワーク : NRN ,  \n",
      "ジャンル : バラエティ番組 ,  \n",
      "パーソナリティ : 加藤千恵 ,  朝井リョウ ,  \n",
      "制作 : ニッポン放送 ,  \n",
      "放送期間 : 2015年4月3日 - 2016年3月25日 ,  \n"
     ]
    }
   ],
   "source": [
    "import re\n",
    "from pyquery import PyQuery as pq\n",
    "query = pq(p.html(), parser='html')\n",
    "ib = query.find('.infobox')\n",
    "\n",
    "# parse infobox table from html\n",
    "staff_dict = dict()\n",
    "for tr in ib.find('tr'):\n",
    "    index = pq(tr).find('th').text()\n",
    "    value = pq(tr).find('td').text()\n",
    "    value = re.sub('(（|\\(|\\（).+?(）|\\）|\\))','', value.encode('utf-8')) #remove brackets\n",
    "    if index is not '' and v is not '':    \n",
    "        value = value.split('\\n')\n",
    "        if i in  staff_dict:\n",
    "            staff_dict[index].extend(value)\n",
    "        else:\n",
    "             staff_dict[index] = value\n",
    "\n",
    "# output\n",
    "for k, v in staff_dict.items():\n",
    "    print k, ':', \n",
    "    for staff in set(v):\n",
    "        print staff,', ',\n",
    "    print ''"
   ]
  },
  {
   "cell_type": "code",
   "execution_count": 429,
   "metadata": {},
   "outputs": [
    {
     "name": "stdout",
     "output_type": "stream",
     "text": [
      "<Element span at 0x109cf26d8> スタッフ\n",
      "[u'\\u30b9\\u30bf\\u30c3\\u30d5']\n",
      "<span class=\"mw-headline\" id=\"&#12473;&#12479;&#12483;&#12501;\">&#12473;&#12479;&#12483;&#12501;</span>\n"
     ]
    }
   ],
   "source": [
    "import lxml.html as xh\n",
    "\n",
    "find_staff = False\n",
    "staff_header = ''\n",
    "staff_end = ''\n",
    "\n",
    "heads = query.find('.mw-headline')\n",
    "for h in heads:\n",
    "    if find_staff:\n",
    "        staff_end = pq(h)\n",
    "        break\n",
    "    if h.text == u'スタッフ':       \n",
    "        find_staff = True\n",
    "#         print type(h)\n",
    "#         print '&#12473;&#12479;&#12483;&#12501;'.encode('utf-8')\n",
    "#         print [h.text.encode('utf-8')]\n",
    "        print h, h.text\n",
    "        staff_header = pq(h)\n",
    "        print [staff_header.text()|]\n",
    "        staff_header = xh.tostring(h)\n",
    "        print staff_header.decode('unicode-escape')\n",
    "\n",
    "# print query.html().find(u'id=\"スタッフ\"')\n",
    "# print [query.html()]\n",
    "\n",
    "# print staff_header\n",
    "# print staff_header.find(u'スタッフ')\n",
    "\n",
    "# print type(html.encode('utf-8')), type(staff_header)\n",
    "\n",
    "# print staff_end.text()\n",
    "# print type(html.encode('utf-8'))\n",
    "# print type(staff_header.html())\n",
    "\n",
    "# uls = query.find('ul')\n",
    "# for ul in uls:\n",
    "#     lis = ul.find('li')\n",
    "#     for li in lis:\n",
    "#         print li.tex\n",
    "\n",
    "# query('li').outerHtml()\n"
   ]
  },
  {
   "cell_type": "code",
   "execution_count": 7,
   "metadata": {
    "collapsed": true
   },
   "outputs": [],
   "source": [
    "import wikipedia\n",
    "wikipedia.set_lang('ja')\n",
    "p = wikipedia.page('朝井リョウと加藤千恵のオールナイトニッポン0(ZERO)')\n",
    "# p = wikipedia.page('ウレロ☆シリーズ')"
   ]
  },
  {
   "cell_type": "code",
   "execution_count": 8,
   "metadata": {
    "scrolled": true
   },
   "outputs": [
    {
     "name": "stdout",
     "output_type": "stream",
     "text": [
      "構成：奥田泰、関口勇斗\n",
      "ミキサー：大坪秀嗣\n",
      "AD：冨山雄一（～2015年6月。金曜一部へ異動）\n",
      "AD：冨山雄一（～2015年6月。金曜一部へ異動）→舟崎彩乃（2015年7月～）[7]\n",
      "NOTTVスタッフディレクター：パヴェル\n",
      "NOTTVスタッフAP：河辺健司\n",
      "プロデューサー：節丸雅矛（2015年6月23日～編成局編成部長へ異動）→橋内慎一（2015年7月～）\n",
      "ディレクター：宗岡芳樹\n"
     ]
    }
   ],
   "source": [
    "import bs4.element as bs4elem\n",
    "from bs4 import BeautifulSoup\n",
    "\n",
    "bsObj = BeautifulSoup(p.html(), \"html.parser\")\n",
    "\n",
    "htmls = []\n",
    "headers = bsObj.find_all(class_='mw-headline')\n",
    "\n",
    "find_staff = False\n",
    "staff_start = ''\n",
    "staff_end = ''\n",
    "for h in headers:\n",
    "#         if find_staff:\n",
    "#             staff_end_class = h\n",
    "#             break\n",
    "        if h.text == u'スタッフ':\n",
    "            staff_start = h\n",
    "#             break\n",
    "            find_staff = True\n",
    "    \n",
    "last_text = ''\n",
    "def find_list(elt, parent=''):\n",
    "    global last_text\n",
    "    for e in elt.find_all('ul'):\n",
    "        for s in e.parent.strings:\n",
    "            parent += s.strip('\\n') #repr(s).decode('unicode-escape')\n",
    "            break            \n",
    "        find_list(e, parent)\n",
    "        parent = ''\n",
    "        e.parent.decompose()\n",
    "    for e in elt.find_all(['dd', 'li']):\n",
    "        if e.name == 'dd':\n",
    "            print last_text + e.text\n",
    "            last_text = ''\n",
    "        else:\n",
    "            last_text = parent+e.text\n",
    "            print parent+e.text        \n",
    "#     \n",
    "\n",
    "finish = False\n",
    "for elt in staff_start.parent.nextSiblingGenerator():\n",
    "    for e in elt:\n",
    "        if isinstance(e, bs4elem.Tag) and e.get('class') == [u'mw-headline']:\n",
    "            finish = True\n",
    "            break\n",
    "    if finish:\n",
    "        break\n",
    "\n",
    "    if hasattr(elt, \"text\"):\n",
    "        find_list(elt)\n",
    "        \n"
   ]
  },
  {
   "cell_type": "code",
   "execution_count": 44,
   "metadata": {},
   "outputs": [
    {
     "name": "stdout",
     "output_type": "stream",
     "text": [
      " ,       バラエティ番組 ,       \n",
      " ,       生放送（稀に録音） ,       \n",
      " ,       2015年4月3日 - 2016年3月25日 ,       \n",
      " ,       金曜27:00 - 29:00 ,       \n",
      " ,       ニッポン放送ほか ,       \n",
      " ,       ニッポン放送 ,       \n",
      " ,       NRN ,       \n",
      " ,       朝井リョウ ,       加藤千恵 ,       \n",
      " ,       OP:だいすき／岡村靖幸 ,       ED:赤黄色の金木犀／フジファブリックBITTER SWEET SAMBA ,       \n",
      " ,       公式サイト ,       \n"
     ]
    }
   ],
   "source": [
    "from bs4 import BeautifulSoup\n",
    "\n",
    "bsObj = BeautifulSoup(p.html(), \"html.parser\")\n",
    "\n",
    "table = bsObj.findAll(\"table\",{\"class\":\"infobox\"})[0]\n",
    "rows = table.findAll(\"tr\")\n",
    "\n",
    "result = dict()\n",
    "\n",
    "for row in rows:\n",
    "    index = row.find('th')\n",
    "    if index is not None:\n",
    "        index = index.get_text()\n",
    "        value = row.find('td')\n",
    "        if value is not None:\n",
    "            value = BeautifulSoup(str(value).replace('<br/>', '\\n'), \"html.parser\")\n",
    "            value = value.get_text().split('\\n')\n",
    "            for v in value:\n",
    "                print v,',      ',\n",
    "            print ''\n",
    "\n",
    "            result[index] = value\n",
    "\n",
    "# output\n",
    "# for k, v in result.items():\n",
    "#     print k, ':', \n",
    "#     for staff in set(v):\n",
    "#         print staff,', ',\n",
    "#     print ''\n",
    "\n",
    "#             for i, elm in enumerate(value.childGenerator()):\n",
    "#                 print(i, \":\", elm)\n",
    "#                 print elm.get_text()\n",
    "\n",
    "        \n",
    "#         brs = value.findAll('br')\n",
    "#         print brs\n",
    "#         value = value.get_text()\n",
    "#         if value[:1] == '\\n':\n",
    "#             value = value[1:]\n",
    "        \n",
    "#     if index is not None and value is not None:\n",
    "#         print index + u': ' + value\n",
    "#     else:\n",
    "#         print index, value\n",
    "\n",
    "\n",
    "\n",
    "#     for cell in row.findAll(['td', 'th']):\n",
    "#         csvRow.append(cell.get_text())\n",
    "        \n",
    "#     for v in csvRow:\n",
    "#         print v,  \n",
    "#     print ''"
   ]
  },
  {
   "cell_type": "code",
   "execution_count": 45,
   "metadata": {},
   "outputs": [
    {
     "data": {
      "text/plain": [
       "u'\\n'"
      ]
     },
     "execution_count": 45,
     "metadata": {},
     "output_type": "execute_result"
    }
   ],
   "source": [
    "'\\n'.decode('utf-8')"
   ]
  },
  {
   "cell_type": "code",
   "execution_count": 53,
   "metadata": {},
   "outputs": [
    {
     "data": {
      "text/plain": [
       "False"
      ]
     },
     "execution_count": 53,
     "metadata": {},
     "output_type": "execute_result"
    }
   ],
   "source": [
    "'h3' >= 'h4'"
   ]
  },
  {
   "cell_type": "code",
   "execution_count": 51,
   "metadata": {},
   "outputs": [
    {
     "name": "stdout",
     "output_type": "stream",
     "text": [
      "test\n"
     ]
    }
   ],
   "source": [
    "import re\n",
    "if re.match('h[1-6]', 'h1'):\n",
    "    print 'test'"
   ]
  },
  {
   "cell_type": "code",
   "execution_count": 62,
   "metadata": {},
   "outputs": [
    {
     "name": "stdout",
     "output_type": "stream",
     "text": [
      "<_sre.SRE_Match object at 0x10b0ec4a8>\n"
     ]
    }
   ],
   "source": [
    "test = '石井玄 - 前番組『Hi-Hiのオールナイトニッポン0(ZERO)』ではADを担当。'\n",
    "print re.search('[:-]', test)"
   ]
  },
  {
   "cell_type": "code",
   "execution_count": 66,
   "metadata": {},
   "outputs": [
    {
     "name": "stdout",
     "output_type": "stream",
     "text": [
      "<_sre.SRE_Match object at 0x10b0ec578>\n"
     ]
    }
   ],
   "source": [
    "test = '構成：奥田泰、関口勇斗'\n",
    "print re.search('：', test)"
   ]
  },
  {
   "cell_type": "code",
   "execution_count": 83,
   "metadata": {},
   "outputs": [
    {
     "name": "stdout",
     "output_type": "stream",
     "text": [
      "オークラ・土屋亮一／バカリズム・飯塚悟志\n",
      "第8話のみ担当\n"
     ]
    }
   ],
   "source": [
    "test = u'オークラ・土屋亮一／バカリズム・飯塚悟志※第8話のみ担当'\n",
    "a = re.split(u'[※-]', test)\n",
    "for i in a:\n",
    "    print i"
   ]
  },
  {
   "cell_type": "code",
   "execution_count": 86,
   "metadata": {},
   "outputs": [
    {
     "name": "stdout",
     "output_type": "stream",
     "text": [
      "True\n"
     ]
    }
   ],
   "source": [
    "if not len([]):\n",
    "    print True"
   ]
  },
  {
   "cell_type": "code",
   "execution_count": null,
   "metadata": {
    "collapsed": true
   },
   "outputs": [],
   "source": []
  }
 ],
 "metadata": {
  "kernelspec": {
   "display_name": "Python 2",
   "language": "python",
   "name": "python2"
  },
  "language_info": {
   "codemirror_mode": {
    "name": "ipython",
    "version": 2
   },
   "file_extension": ".py",
   "mimetype": "text/x-python",
   "name": "python",
   "nbconvert_exporter": "python",
   "pygments_lexer": "ipython2",
   "version": "2.7.14"
  }
 },
 "nbformat": 4,
 "nbformat_minor": 2
}
