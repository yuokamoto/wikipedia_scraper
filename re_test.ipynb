{
 "cells": [
  {
   "cell_type": "code",
   "execution_count": 67,
   "metadata": {},
   "outputs": [
    {
     "name": "stdout",
     "output_type": "stream",
     "text": [
      "True\n"
     ]
    }
   ],
   "source": [
    "import re\n",
    "\n",
    "def utf(data):\n",
    "    if isinstance(data, unicode):\n",
    "        data = data.encode('utf-8')\n",
    "    return data\n",
    "\n",
    "def isKatakanaOrEng(data):\n",
    "    for d in data:\n",
    "        if not ( '゠' <= utf(d) <= 'ヿ' or re.search('\\w', utf(d)) ):\n",
    "            return False\n",
    "    \n",
    "    return True\n",
    "\n",
    "# re_katakana = re.compile(r'[\\u30A1-\\u30F4]+')\n",
    "# data = u'ライアン・ジョンソンBCdafsaf123121'\n",
    "data = u'アイウエオかきくけこさシスセトたちつてとなにぬねのは皮膚へ報告'\n",
    "data = u'ア・アラ '\n",
    "is_kana = False\n",
    "                \n",
    "# for d in data:\n",
    "#     if not ( '゠' <= d.encode('utf-8') <= 'ヿ' or re.search('\\w',d.encode('utf-8')) ):\n",
    "#         return False\n",
    "\n",
    "# return True\n",
    "print isKatakanaOrEng(data\n"
   ]
  },
  {
   "cell_type": "code",
   "execution_count": null,
   "metadata": {
    "collapsed": true
   },
   "outputs": [],
   "source": []
  },
  {
   "cell_type": "code",
   "execution_count": 75,
   "metadata": {},
   "outputs": [
    {
     "name": "stdout",
     "output_type": "stream",
     "text": [
      "[1, 2, 3, u'dfasdfasd']\n"
     ]
    }
   ],
   "source": []
  }
 ],
 "metadata": {
  "kernelspec": {
   "display_name": "Python 2",
   "language": "python",
   "name": "python2"
  },
  "language_info": {
   "codemirror_mode": {
    "name": "ipython",
    "version": 2
   },
   "file_extension": ".py",
   "mimetype": "text/x-python",
   "name": "python",
   "nbconvert_exporter": "python",
   "pygments_lexer": "ipython2",
   "version": "2.7.14"
  }
 },
 "nbformat": 4,
 "nbformat_minor": 2
}
